{
  "cells": [
    {
      "cell_type": "markdown",
      "metadata": {
        "id": "gBuc3JAtub9C"
      },
      "source": [
        "# 로컬에서 실행할 코드"
      ]
    },
    {
      "cell_type": "code",
      "execution_count": null,
      "metadata": {
        "id": "40GZ3tq_udwo"
      },
      "outputs": [],
      "source": [
        "# Ollama 모델 로드 및 테스트\n",
        "from langchain_community.chat_models import ChatOllama\n",
        "\n",
        "model = ChatOllama(model=\"llama3.1\", temperature=0)\n",
        "\n",
        "response = model.invoke(\"겨울철에 내한성이 강한 나무에는 어떤 것이 있을까요?\")"
      ]
    },
    {
      "cell_type": "code",
      "execution_count": null,
      "metadata": {
        "id": "5RnceDN6ukDe"
      },
      "outputs": [],
      "source": [
        "# 랭체인 라이브러리를 사용하여 Ollam 모델을 로드하고, API 엔드포인트를 설정\n",
        "model = ChatOllama(model=\"llama3.1\", temperature=0,\n",
        "                   base_url=\"URL 입력하세요.\")\n",
        "\n",
        "response = model.invoke(\"겨울철에 내한성이 강한 나무에는 어떤 것이 있을까요?\")"
      ]
    }
  ],
  "metadata": {
    "accelerator": "GPU",
    "colab": {
      "gpuType": "T4",
      "provenance": []
    },
    "kernelspec": {
      "display_name": "Python 3",
      "name": "python3"
    },
    "language_info": {
      "name": "python"
    }
  },
  "nbformat": 4,
  "nbformat_minor": 0
}
