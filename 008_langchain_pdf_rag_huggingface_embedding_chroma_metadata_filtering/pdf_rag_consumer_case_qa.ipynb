{
 "cells": [
  {
   "cell_type": "markdown",
   "id": "41ce62a8-251f-4f9e-b375-e93a5861c3fe",
   "metadata": {},
   "source": [
    "# PDF RAG - 소비자 분쟁조정 사례집 QA"
   ]
  },
  {
   "cell_type": "markdown",
   "id": "8e038961",
   "metadata": {},
   "source": [
    "## PDF Data"
   ]
  },
  {
   "cell_type": "code",
   "execution_count": null,
   "id": "16e769cc",
   "metadata": {},
   "outputs": [],
   "source": [
    "import os\n",
    "from glob import glob\n",
    "pdf_files = glob(os.path.join('pdf_data', '*분쟁*.pdf'))\n",
    "len(pdf_files) "
   ]
  },
  {
   "cell_type": "code",
   "execution_count": null,
   "id": "9b47c41e",
   "metadata": {},
   "outputs": [],
   "source": [
    "# pdf 파일 목록\n",
    "pdf_files"
   ]
  },
  {
   "cell_type": "code",
   "execution_count": null,
   "id": "8c64527d",
   "metadata": {},
   "outputs": [],
   "source": [
    "# pdf 파일을 읽어서 텍스트로 변환\n",
    "from langchain_community.document_loaders import PyPDFLoader\n",
    "\n",
    "loader = PyPDFLoader(pdf_files[1])\n",
    "data = loader.load()\n",
    "len(data)"
   ]
  },
  {
   "cell_type": "code",
   "execution_count": null,
   "id": "8febe491",
   "metadata": {},
   "outputs": [],
   "source": [
    "# 첫번째 페이지의 텍스트 출력\n",
    "from pprint import pprint\n",
    "pprint(data[0].page_content) "
   ]
  },
  {
   "cell_type": "code",
   "execution_count": null,
   "id": "087c3665",
   "metadata": {},
   "outputs": [],
   "source": [
    "# 첫번째 페이지의 메타데이터 출력\n",
    "pprint(data[0].metadata)  "
   ]
  },
  {
   "cell_type": "code",
   "execution_count": null,
   "id": "4a5f11f3",
   "metadata": {},
   "outputs": [],
   "source": [
    "# 10번째 페이지의 텍스트 출력\n",
    "pprint(data[10].page_content)"
   ]
  },
  {
   "cell_type": "code",
   "execution_count": null,
   "id": "02dc1cd1",
   "metadata": {},
   "outputs": [],
   "source": [
    "# 10번째 페이지의 텍스트에서 정보 추출\n",
    "import re\n",
    "split_pattern = r'사\\n례\\d+.*사건번호.*결정일자.*\\d{4}\\.\\s?\\d{1,2}\\.\\s?\\d{1,2}\\.'\n",
    "split_text = re.findall(split_pattern, \"\".join(data[10].page_content))\n",
    "split_text  "
   ]
  },
  {
   "cell_type": "code",
   "execution_count": null,
   "id": "3e1c11ce",
   "metadata": {},
   "outputs": [],
   "source": [
    "# split_text가 존재하면 split_pattern으로 분리\n",
    "if split_text:\n",
    "    parts = re.split(split_pattern, \"\".join(data[10].page_content))"
   ]
  },
  {
   "cell_type": "code",
   "execution_count": null,
   "id": "8ddad4f6",
   "metadata": {},
   "outputs": [],
   "source": [
    "# 분리된 텍스트 출력\n",
    "parts[0]"
   ]
  },
  {
   "cell_type": "code",
   "execution_count": null,
   "id": "38246708",
   "metadata": {},
   "outputs": [],
   "source": [
    "# 분리된 텍스트 출력\n",
    "parts[1]"
   ]
  },
  {
   "cell_type": "code",
   "execution_count": null,
   "id": "e6ac0379",
   "metadata": {},
   "outputs": [],
   "source": [
    "# 특정 문자열의 위치 찾기\n",
    "re.search(r'주 문\\n', parts[1]).span()[0]"
   ]
  },
  {
   "cell_type": "code",
   "execution_count": null,
   "id": "6d83d55a",
   "metadata": {},
   "outputs": [],
   "source": [
    "# 제목 추출\n",
    "title = parts[1][:re.search(r'주 문\\n', parts[1]).span()[0]].strip()\n",
    "title"
   ]
  },
  {
   "cell_type": "code",
   "execution_count": null,
   "id": "45628cd2",
   "metadata": {},
   "outputs": [],
   "source": [
    "# 내용 추출\n",
    "content = parts[1][re.search(r'주 문\\n', parts[1]).span()[0]:]\n",
    "content"
   ]
  },
  {
   "cell_type": "code",
   "execution_count": null,
   "id": "d477ba1f",
   "metadata": {},
   "outputs": [],
   "source": [
    "# 구분 문자열에서 사례 번호 추출\n",
    "split_text[0]"
   ]
  },
  {
   "cell_type": "code",
   "execution_count": null,
   "id": "0f5b7714",
   "metadata": {},
   "outputs": [],
   "source": [
    "re.findall('례\\s?(\\d+)\\s?사건번호', split_text[0])[0]"
   ]
  },
  {
   "cell_type": "code",
   "execution_count": null,
   "id": "74cfce87",
   "metadata": {},
   "outputs": [],
   "source": [
    "# 사건에 대한 메타데이터 추출하는 Pydantic 스키마 정의\n",
    "\n",
    "from langchain_core.pydantic_v1 import BaseModel, Field\n",
    "\n",
    "class Case(BaseModel):\n",
    "    case_number: str = Field(description=\"The number of the case\", required=True)\n",
    "    case_date: str = Field(description=\"The date when the case was occurred (year, month, day)\", required=True)   "
   ]
  },
  {
   "cell_type": "code",
   "execution_count": null,
   "id": "f50ca57e",
   "metadata": {},
   "outputs": [],
   "source": [
    "# Extraction chain 구성\n",
    "from langchain_core.prompts import PromptTemplate\n",
    "from langchain_experimental.llms.ollama_functions import OllamaFunctions\n",
    "\n",
    "\n",
    "prompt = PromptTemplate.from_template(\n",
    "    \"\"\" Extract relevant information from the following text:\n",
    "    \n",
    "TEXT: {text} \\n\n",
    "\n",
    "AI: \"\"\"\n",
    ")\n",
    "\n",
    "text = split_text[0]\n",
    "\n",
    "llm = OllamaFunctions(model=\"llama3\", format=\"json\", temperature=0)\n",
    "runnable = prompt | llm.with_structured_output(schema=Case)\n",
    "response = runnable.invoke({\"text\": text})\n",
    "print(response)"
   ]
  },
  {
   "cell_type": "code",
   "execution_count": null,
   "id": "e8fb417b",
   "metadata": {},
   "outputs": [],
   "source": [
    "dict(response)"
   ]
  },
  {
   "cell_type": "code",
   "execution_count": null,
   "id": "0ea09a1d",
   "metadata": {},
   "outputs": [],
   "source": [
    "data[-2].page_content   "
   ]
  },
  {
   "cell_type": "code",
   "execution_count": null,
   "id": "5a8c1477",
   "metadata": {},
   "outputs": [],
   "source": [
    "# 문서 객체를 페이지별로 순회하며 사례 번호 등 메타데이터를 추출하고 업데이트\n",
    "pdf_docs = []\n",
    "case_metadata = {}\n",
    "for doc in data[10:-2]:\n",
    "    split_text = re.findall(split_pattern, \"\".join(doc.page_content))\n",
    "    if split_text:\n",
    "\n",
    "        # case id\n",
    "        case_metadata['case_id'] = re.findall('례\\s?(\\d+)\\s?사건번호', split_text[0])[0]\n",
    "\n",
    "        parts = re.split(split_pattern, \"\".join(doc.page_content))\n",
    "\n",
    "        if re.search(r'주 문\\n', parts[1]):\n",
    "            # Add title to metadata\n",
    "            case_metadata['title'] = parts[1][:re.search(r'주 문\\n', parts[1]).span()[0]].replace('\\n', '').strip()\n",
    "                    \n",
    "            # Update content\n",
    "            doc.page_content = parts[1][re.search(r'주 문\\n', parts[1]).span()[0]:].strip()\n",
    "        else:\n",
    "            case_metadata['title'] = ''\n",
    "            \n",
    "        # Extract metadata from text\n",
    "        i = 0\n",
    "        while i < 10:\n",
    "            try:\n",
    "                response = runnable.invoke({\"text\": split_text[0]})\n",
    "                for k, v in dict(response).items():\n",
    "                    case_metadata[k] = v.replace(\"\\n\", \"\").replace(\" \", \"\")\n",
    "                break\n",
    "            except:\n",
    "                i += 1\n",
    "                continue\n",
    "\n",
    "        # Update metadata \n",
    "        doc.metadata.update(case_metadata)\n",
    "\n",
    "        # Append to split_docs\n",
    "        pdf_docs.append(doc)\n",
    "\n",
    "    else:\n",
    "        # Update metadata \n",
    "        doc.metadata.update(case_metadata) \n",
    "\n",
    "        # Append to split_docs\n",
    "        pdf_docs.append(doc)\n",
    "\n",
    "len(pdf_docs)"
   ]
  },
  {
   "cell_type": "code",
   "execution_count": null,
   "id": "b07eacae",
   "metadata": {},
   "outputs": [],
   "source": [
    "pprint(pdf_docs[0].page_content)"
   ]
  },
  {
   "cell_type": "code",
   "execution_count": null,
   "id": "94d99a4f",
   "metadata": {},
   "outputs": [],
   "source": [
    "pprint(pdf_docs[0].metadata)"
   ]
  },
  {
   "cell_type": "markdown",
   "id": "a26da56f",
   "metadata": {},
   "source": [
    "## Embedding"
   ]
  },
  {
   "cell_type": "code",
   "execution_count": null,
   "id": "7059c741",
   "metadata": {},
   "outputs": [],
   "source": [
    "# HugoingFace Embeddings를 다운로드\n",
    "from langchain.embeddings import HuggingFaceEmbeddings\n",
    "\n",
    "embeddings_model = HuggingFaceEmbeddings(\n",
    "    model_name=\"snunlp/KR-SBERT-V40K-klueNLI-augSTS\",\n",
    ")"
   ]
  },
  {
   "cell_type": "code",
   "execution_count": null,
   "id": "54c4d908",
   "metadata": {},
   "outputs": [],
   "source": [
    "# 문서를 임베딩\n",
    "embeddings = embeddings_model.embed_documents(\n",
    "    [\n",
    "        \"온라인 쇼핑몰에서 주문한 제품이 불량품으로 배송되었습니다. 이에 대한 법적 책임은 누구에게 있나요?\",\n",
    "        \"구입한 전자제품이 고장나서 환불을 요청했지만 거부당했습니다. 피해 보상을 받을 수 있나요?\",\n",
    "        \"호텔 예약 후 도착했는데 예약이 취소되었다고 했습니다. 이에 대한 대응 방법은 무엇인가요?\",\n",
    "        \"자동차 수리 후 동일한 문제가 재발했습니다. 수리업체에 대한 법적 조치를 취할 수 있나요?\",\n",
    "        \"항공편이 지연되어 중요한 일정을 놓쳤습니다. 이에 대한 피해 보상을 받을 수 있나요?\"\n",
    "    ]\n",
    ")\n",
    "len(embeddings), len(embeddings[0])"
   ]
  },
  {
   "cell_type": "code",
   "execution_count": null,
   "id": "4357bce1",
   "metadata": {},
   "outputs": [],
   "source": [
    "embedded_query = embeddings_model.embed_query(\"에어컨 제품 불량에 대해서 보상을 받을 수 있을까요?\")\n",
    "embedded_query[:5]"
   ]
  },
  {
   "cell_type": "code",
   "execution_count": null,
   "id": "baf0cb96",
   "metadata": {},
   "outputs": [],
   "source": [
    "# 코사인 유사도\n",
    "import numpy as np\n",
    "from numpy import dot\n",
    "from numpy.linalg import norm\n",
    "\n",
    "def cos_sim(A, B):\n",
    "  return dot(A, B)/(norm(A)*norm(B))\n",
    "\n",
    "# 쿼리와 문서 간의 코사인 유사도 계산\n",
    "for embedding in embeddings:\n",
    "    print(cos_sim(embedding, embedded_query))"
   ]
  },
  {
   "cell_type": "markdown",
   "id": "ae51fed8",
   "metadata": {},
   "source": [
    "## Chunking"
   ]
  },
  {
   "cell_type": "code",
   "execution_count": null,
   "id": "33c991d1",
   "metadata": {},
   "outputs": [],
   "source": [
    "# HugoingFace Embedding 모델의 Tokenizer를 사용하여 토큰화\n",
    "from transformers import AutoTokenizer\n",
    "tokenizer = AutoTokenizer.from_pretrained('snunlp/KR-SBERT-V40K-klueNLI-augSTS')\n",
    "\n",
    "text = \"에어컨 제품 불량에 대해서 보상을 받을 수 있을까요?\"\n",
    "encoded = tokenizer.encode(text)\n",
    "print(len(text), len(encoded))\n",
    "print(encoded)"
   ]
  },
  {
   "cell_type": "code",
   "execution_count": null,
   "id": "f94e170f",
   "metadata": {},
   "outputs": [],
   "source": [
    "# Token 수를 기준으ㄹ 문서를 청크 단위로 분할\n",
    "from langchain_text_splitters import RecursiveCharacterTextSplitter\n",
    "\n",
    "text_splitter = RecursiveCharacterTextSplitter.from_huggingface_tokenizer(\n",
    "    tokenizer = tokenizer,\n",
    "    chunk_size = 120,\n",
    "    chunk_overlap  = 10,\n",
    ")\n",
    "\n",
    "split_docs = text_splitter.split_documents(pdf_docs)\n",
    "print(len(split_docs))\n",
    "print(split_docs[0])"
   ]
  },
  {
   "cell_type": "code",
   "execution_count": null,
   "id": "7fa49d34",
   "metadata": {},
   "outputs": [],
   "source": [
    "sample_text = split_docs[0].page_content\n",
    "sample_encoded = tokenizer.encode(sample_text)\n",
    "len(sample_text), len(sample_encoded)"
   ]
  },
  {
   "cell_type": "code",
   "execution_count": null,
   "id": "bf733259",
   "metadata": {},
   "outputs": [],
   "source": [
    "print(len(tokenizer.encode(split_docs[0].page_content)))\n",
    "pprint(split_docs[0].page_content)"
   ]
  },
  {
   "cell_type": "code",
   "execution_count": null,
   "id": "dfcdc407",
   "metadata": {},
   "outputs": [],
   "source": [
    "print(len(tokenizer.encode(split_docs[1].page_content)))\n",
    "pprint(split_docs[1].page_content)"
   ]
  },
  {
   "cell_type": "code",
   "execution_count": null,
   "id": "b8967cb1",
   "metadata": {},
   "outputs": [],
   "source": [
    "# 마침표 뒤에 나오는 줄바꿈 문자는 그대로 두고 나머지 줄바꿈 문자만 제거\n",
    "result = re.sub(r'(?<!\\.)\\n', ' ', split_docs[1].page_content)\n",
    "result"
   ]
  },
  {
   "cell_type": "code",
   "execution_count": null,
   "id": "4131da02",
   "metadata": {},
   "outputs": [],
   "source": [
    "pprint(split_docs[0].metadata)"
   ]
  },
  {
   "cell_type": "code",
   "execution_count": null,
   "id": "799aec4b",
   "metadata": {},
   "outputs": [],
   "source": [
    "pprint(split_docs[1].metadata)"
   ]
  },
  {
   "cell_type": "code",
   "execution_count": null,
   "id": "3a1a4086",
   "metadata": {},
   "outputs": [],
   "source": [
    "f\"### 이 사건은 '{split_docs[1].metadata['title']}'에 대한 사례입니다.\""
   ]
  },
  {
   "cell_type": "markdown",
   "id": "f38bc41b",
   "metadata": {},
   "source": [
    "# Indexing"
   ]
  },
  {
   "cell_type": "code",
   "execution_count": null,
   "id": "a557396b",
   "metadata": {},
   "outputs": [],
   "source": [
    "final_docs = []\n",
    "for doc in split_docs:\n",
    "    doc.page_content = f\"### 이 사건은 '{doc.metadata['title']}'에 대한 사례입니다.\\n\\n\" + \\\n",
    "    re.sub(r'(?<!\\.)\\n', ' ', doc.page_content)\n",
    "    final_docs.append(doc)\n",
    "\n",
    "print(final_docs[0].page_content)"
   ]
  },
  {
   "cell_type": "code",
   "execution_count": null,
   "id": "8073e9ec",
   "metadata": {},
   "outputs": [],
   "source": [
    "print(final_docs[1].page_content)"
   ]
  },
  {
   "cell_type": "code",
   "execution_count": null,
   "id": "e4a0359d",
   "metadata": {},
   "outputs": [],
   "source": [
    "from langchain_community.vectorstores import Chroma\n",
    "vectorstore = Chroma.from_documents(documents=final_docs, \n",
    "                                    embedding=embeddings_model, \n",
    "                                    collection_name=\"consumer_case_qa\",\n",
    "                                    persist_directory=\"./chroma_db\")"
   ]
  },
  {
   "cell_type": "code",
   "execution_count": null,
   "id": "e6105953",
   "metadata": {},
   "outputs": [],
   "source": [
    "chroma_docs = vectorstore.similarity_search(\"세탁 후 오염에 대한 손해배상은 어떻게 이루어지나요?\", k=5)\n",
    "for doc in chroma_docs:\n",
    "    print(str(doc.metadata[\"case_id\"]), str(doc.metadata[\"page\"]), doc.page_content[:200])"
   ]
  },
  {
   "cell_type": "markdown",
   "id": "236f6492",
   "metadata": {},
   "source": [
    "## Retrieval"
   ]
  },
  {
   "cell_type": "code",
   "execution_count": null,
   "id": "785a145c",
   "metadata": {},
   "outputs": [],
   "source": [
    "# Top K\n",
    "retriever = vectorstore.as_retriever(\n",
    "    search_kwargs={\"k\": 5}\n",
    ")\n",
    "\n",
    "query = \"세탁 후 오염에 대한 손해배상은 어떻게 이루어지나요?\"\n",
    "retrieved_docs = retriever.invoke(query)\n",
    "\n",
    "for doc in retrieved_docs:\n",
    "    print(str(doc.metadata[\"case_id\"]), str(doc.metadata[\"page\"]), doc.page_content[:100])"
   ]
  },
  {
   "cell_type": "code",
   "execution_count": null,
   "id": "350a93ba",
   "metadata": {},
   "outputs": [],
   "source": [
    "# metadata를 이용한 필터링\n",
    "\n",
    "retriever = vectorstore.as_retriever(\n",
    "    search_kwargs={\n",
    "        'k': 5,\n",
    "        'filter': {'case_id':'01'}\n",
    "        }\n",
    ")\n",
    "\n",
    "\n",
    "query = \"세탁 후 오염에 대한 손해배상은 어떻게 이루어지나요?\"\n",
    "retrieved_docs = retriever.invoke(query)\n",
    "\n",
    "for doc in retrieved_docs:\n",
    "    print(str(doc.metadata[\"case_id\"]), str(doc.metadata[\"page\"]), doc.page_content[:100])"
   ]
  },
  {
   "cell_type": "code",
   "execution_count": null,
   "id": "ff6d1f7c",
   "metadata": {},
   "outputs": [],
   "source": [
    "# page_content를 이용한 필터링\n",
    "\n",
    "retriever = vectorstore.as_retriever(\n",
    "    search_kwargs={\n",
    "        'k': 5,\n",
    "        'where_document': {'$contains': '세탁'}\n",
    "        }\n",
    ")\n",
    "\n",
    "query = \"세탁 후 오염에 대한 손해배상은 어떻게 이루어지나요?\"\n",
    "retrieved_docs = retriever.invoke(query)\n",
    "\n",
    "for doc in retrieved_docs:\n",
    "    print(str(doc.metadata[\"case_id\"]), str(doc.metadata[\"page\"]), doc.page_content[:100])"
   ]
  },
  {
   "cell_type": "markdown",
   "id": "0f03b6e1",
   "metadata": {},
   "source": [
    "## Generation"
   ]
  },
  {
   "cell_type": "code",
   "execution_count": null,
   "id": "f5360311",
   "metadata": {},
   "outputs": [],
   "source": [
    "from langchain_community.chat_models import ChatOllama\n",
    "from langchain.prompts import ChatPromptTemplate\n",
    "\n",
    "# Prompt\n",
    "template = \"\"\"Answer the question based only on the following context:\n",
    "{context}\n",
    "\n",
    "Question: {question}\n",
    "\"\"\"\n",
    "\n",
    "prompt = ChatPromptTemplate.from_template(template)\n",
    "prompt"
   ]
  },
  {
   "cell_type": "code",
   "execution_count": null,
   "id": "32cefc20",
   "metadata": {},
   "outputs": [],
   "source": [
    "# RAG Chain\n",
    "llm = ChatOllama(model=\"qwen2\", temperature=0)\n",
    "\n",
    "from langchain_core.output_parsers import StrOutputParser\n",
    "from langchain_core.runnables import RunnablePassthrough\n",
    "\n",
    "def format_docs(docs):\n",
    "    return \"\\n\\n\".join([d.page_content for d in docs])\n",
    "\n",
    "item = \"세탁\"\n",
    "query = f\"{item} 불량에 대한 손해배상은 어떻게 이루어지나요?\"\n",
    "\n",
    "retriever = vectorstore.as_retriever(\n",
    "    search_kwargs={\n",
    "        'k': 2,\n",
    "        'where_document': {'$contains': item}\n",
    "        }\n",
    ")\n",
    "\n",
    "rag_chain = (\n",
    "    {\"context\": retriever | format_docs, \"question\": RunnablePassthrough()}\n",
    "    | prompt\n",
    "    | llm\n",
    "    | StrOutputParser()\n",
    ")\n",
    "\n",
    "\n",
    "response = rag_chain.invoke(query)\n",
    "response"
   ]
  },
  {
   "cell_type": "code",
   "execution_count": null,
   "id": "7bdb3db3",
   "metadata": {},
   "outputs": [],
   "source": [
    "print(response)"
   ]
  },
  {
   "cell_type": "code",
   "execution_count": null,
   "id": "4b7bcc20",
   "metadata": {},
   "outputs": [],
   "source": []
  }
 ],
 "metadata": {
  "kernelspec": {
   "display_name": "Python 3 (ipykernel)",
   "language": "python",
   "name": "python3"
  },
  "language_info": {
   "codemirror_mode": {
    "name": "ipython",
    "version": 3
   },
   "file_extension": ".py",
   "mimetype": "text/x-python",
   "name": "python",
   "nbconvert_exporter": "python",
   "pygments_lexer": "ipython3",
   "version": "3.11.9"
  }
 },
 "nbformat": 4,
 "nbformat_minor": 5
}
