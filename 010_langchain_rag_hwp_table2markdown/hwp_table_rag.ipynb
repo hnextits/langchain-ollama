{
 "cells": [
  {
   "cell_type": "markdown",
   "metadata": {},
   "source": [
    "## Env"
   ]
  },
  {
   "cell_type": "code",
   "execution_count": 17,
   "metadata": {},
   "outputs": [
    {
     "name": "stdout",
     "output_type": "stream",
     "text": [
      "Requirement already satisfied: python-dotenv in c:\\users\\user\\miniconda3\\envs\\okpy\\lib\\site-packages (1.0.0)\n",
      "Requirement already satisfied: RAGChain in c:\\users\\user\\miniconda3\\envs\\okpy\\lib\\site-packages (0.2.6)\n",
      "Collecting bs4\n",
      "  Downloading bs4-0.0.2-py2.py3-none-any.whl.metadata (411 bytes)\n",
      "Requirement already satisfied: langchain>=0.1.0 in c:\\users\\user\\miniconda3\\envs\\okpy\\lib\\site-packages (from RAGChain) (0.2.6)\n",
      "Requirement already satisfied: chromadb>=0.4.16 in c:\\users\\user\\miniconda3\\envs\\okpy\\lib\\site-packages (from RAGChain) (0.5.3)\n",
      "Requirement already satisfied: urllib3 in c:\\users\\user\\miniconda3\\envs\\okpy\\lib\\site-packages (from RAGChain) (2.2.2)\n",
      "Requirement already satisfied: pdfminer.six in c:\\users\\user\\miniconda3\\envs\\okpy\\lib\\site-packages (from RAGChain) (20231228)\n",
      "Requirement already satisfied: click in c:\\users\\user\\miniconda3\\envs\\okpy\\lib\\site-packages (from RAGChain) (8.1.7)\n",
      "Requirement already satisfied: openpyxl in c:\\users\\user\\miniconda3\\envs\\okpy\\lib\\site-packages (from RAGChain) (3.1.5)\n",
      "Requirement already satisfied: pinecone-client in c:\\users\\user\\miniconda3\\envs\\okpy\\lib\\site-packages (from RAGChain) (4.1.2)\n",
      "Requirement already satisfied: tiktoken in c:\\users\\user\\miniconda3\\envs\\okpy\\lib\\site-packages (from RAGChain) (0.7.0)\n",
      "Requirement already satisfied: rank-bm25 in c:\\users\\user\\miniconda3\\envs\\okpy\\lib\\site-packages (from RAGChain) (0.2.2)\n",
      "Requirement already satisfied: numpy in c:\\users\\user\\miniconda3\\envs\\okpy\\lib\\site-packages (from RAGChain) (1.26.4)\n",
      "Requirement already satisfied: pandas in c:\\users\\user\\miniconda3\\envs\\okpy\\lib\\site-packages (from RAGChain) (2.2.2)\n",
      "Requirement already satisfied: pydantic==1.10.13 in c:\\users\\user\\miniconda3\\envs\\okpy\\lib\\site-packages (from RAGChain) (1.10.13)\n",
      "Requirement already satisfied: tqdm in c:\\users\\user\\miniconda3\\envs\\okpy\\lib\\site-packages (from RAGChain) (4.66.4)\n",
      "Requirement already satisfied: pymongo in c:\\users\\user\\miniconda3\\envs\\okpy\\lib\\site-packages (from RAGChain) (4.8.0)\n",
      "Requirement already satisfied: requests in c:\\users\\user\\miniconda3\\envs\\okpy\\lib\\site-packages (from RAGChain) (2.32.3)\n",
      "Requirement already satisfied: redis in c:\\users\\user\\miniconda3\\envs\\okpy\\lib\\site-packages (from RAGChain) (5.0.7)\n",
      "Requirement already satisfied: aiohttp in c:\\users\\user\\miniconda3\\envs\\okpy\\lib\\site-packages (from RAGChain) (3.9.5)\n",
      "Requirement already satisfied: openai in c:\\users\\user\\miniconda3\\envs\\okpy\\lib\\site-packages (from RAGChain) (1.35.10)\n",
      "Requirement already satisfied: InstructorEmbedding in c:\\users\\user\\miniconda3\\envs\\okpy\\lib\\site-packages (from RAGChain) (1.0.1)\n",
      "Requirement already satisfied: sentence-transformers in c:\\users\\user\\miniconda3\\envs\\okpy\\lib\\site-packages (from RAGChain) (3.0.1)\n",
      "Requirement already satisfied: huggingface-hub in c:\\users\\user\\miniconda3\\envs\\okpy\\lib\\site-packages (from RAGChain) (0.23.4)\n",
      "Requirement already satisfied: transformers in c:\\users\\user\\miniconda3\\envs\\okpy\\lib\\site-packages (from RAGChain) (4.42.3)\n",
      "Requirement already satisfied: torch in c:\\users\\user\\miniconda3\\envs\\okpy\\lib\\site-packages (from RAGChain) (2.3.1)\n",
      "Requirement already satisfied: pyarrow in c:\\users\\user\\miniconda3\\envs\\okpy\\lib\\site-packages (from RAGChain) (16.1.0)\n",
      "Requirement already satisfied: fastparquet in c:\\users\\user\\miniconda3\\envs\\okpy\\lib\\site-packages (from RAGChain) (2024.5.0)\n",
      "Requirement already satisfied: ragas in c:\\users\\user\\miniconda3\\envs\\okpy\\lib\\site-packages (from RAGChain) (0.1.10)\n",
      "Requirement already satisfied: datasets in c:\\users\\user\\miniconda3\\envs\\okpy\\lib\\site-packages (from RAGChain) (2.20.0)\n",
      "Requirement already satisfied: lxml in c:\\users\\user\\miniconda3\\envs\\okpy\\lib\\site-packages (from RAGChain) (5.2.2)\n",
      "Requirement already satisfied: sacrebleu in c:\\users\\user\\miniconda3\\envs\\okpy\\lib\\site-packages (from RAGChain) (2.4.2)\n",
      "Requirement already satisfied: scikit-learn in c:\\users\\user\\miniconda3\\envs\\okpy\\lib\\site-packages (from RAGChain) (1.5.1)\n",
      "Requirement already satisfied: boto3 in c:\\users\\user\\miniconda3\\envs\\okpy\\lib\\site-packages (from RAGChain) (1.34.139)\n",
      "Requirement already satisfied: evaluate in c:\\users\\user\\miniconda3\\envs\\okpy\\lib\\site-packages (from RAGChain) (0.4.2)\n",
      "Requirement already satisfied: rouge-score in c:\\users\\user\\miniconda3\\envs\\okpy\\lib\\site-packages (from RAGChain) (0.1.2)\n",
      "Requirement already satisfied: typing-extensions>=4.2.0 in c:\\users\\user\\miniconda3\\envs\\okpy\\lib\\site-packages (from pydantic==1.10.13->RAGChain) (4.12.2)\n",
      "Collecting beautifulsoup4 (from bs4)\n",
      "  Downloading beautifulsoup4-4.12.3-py3-none-any.whl.metadata (3.8 kB)\n",
      "Requirement already satisfied: build>=1.0.3 in c:\\users\\user\\miniconda3\\envs\\okpy\\lib\\site-packages (from chromadb>=0.4.16->RAGChain) (1.2.1)\n",
      "Requirement already satisfied: chroma-hnswlib==0.7.3 in c:\\users\\user\\miniconda3\\envs\\okpy\\lib\\site-packages (from chromadb>=0.4.16->RAGChain) (0.7.3)\n",
      "Requirement already satisfied: fastapi>=0.95.2 in c:\\users\\user\\miniconda3\\envs\\okpy\\lib\\site-packages (from chromadb>=0.4.16->RAGChain) (0.111.0)\n",
      "Requirement already satisfied: uvicorn>=0.18.3 in c:\\users\\user\\miniconda3\\envs\\okpy\\lib\\site-packages (from uvicorn[standard]>=0.18.3->chromadb>=0.4.16->RAGChain) (0.30.1)\n",
      "Requirement already satisfied: posthog>=2.4.0 in c:\\users\\user\\miniconda3\\envs\\okpy\\lib\\site-packages (from chromadb>=0.4.16->RAGChain) (3.5.0)\n",
      "Requirement already satisfied: onnxruntime>=1.14.1 in c:\\users\\user\\miniconda3\\envs\\okpy\\lib\\site-packages (from chromadb>=0.4.16->RAGChain) (1.18.1)\n",
      "Requirement already satisfied: opentelemetry-api>=1.2.0 in c:\\users\\user\\miniconda3\\envs\\okpy\\lib\\site-packages (from chromadb>=0.4.16->RAGChain) (1.25.0)\n",
      "Requirement already satisfied: opentelemetry-exporter-otlp-proto-grpc>=1.2.0 in c:\\users\\user\\miniconda3\\envs\\okpy\\lib\\site-packages (from chromadb>=0.4.16->RAGChain) (1.25.0)\n",
      "Requirement already satisfied: opentelemetry-instrumentation-fastapi>=0.41b0 in c:\\users\\user\\miniconda3\\envs\\okpy\\lib\\site-packages (from chromadb>=0.4.16->RAGChain) (0.46b0)\n",
      "Requirement already satisfied: opentelemetry-sdk>=1.2.0 in c:\\users\\user\\miniconda3\\envs\\okpy\\lib\\site-packages (from chromadb>=0.4.16->RAGChain) (1.25.0)\n",
      "Requirement already satisfied: tokenizers>=0.13.2 in c:\\users\\user\\miniconda3\\envs\\okpy\\lib\\site-packages (from chromadb>=0.4.16->RAGChain) (0.19.1)\n",
      "Requirement already satisfied: pypika>=0.48.9 in c:\\users\\user\\miniconda3\\envs\\okpy\\lib\\site-packages (from chromadb>=0.4.16->RAGChain) (0.48.9)\n",
      "Requirement already satisfied: overrides>=7.3.1 in c:\\users\\user\\miniconda3\\envs\\okpy\\lib\\site-packages (from chromadb>=0.4.16->RAGChain) (7.7.0)\n",
      "Requirement already satisfied: importlib-resources in c:\\users\\user\\miniconda3\\envs\\okpy\\lib\\site-packages (from chromadb>=0.4.16->RAGChain) (6.4.0)\n",
      "Requirement already satisfied: grpcio>=1.58.0 in c:\\users\\user\\miniconda3\\envs\\okpy\\lib\\site-packages (from chromadb>=0.4.16->RAGChain) (1.64.1)\n",
      "Requirement already satisfied: bcrypt>=4.0.1 in c:\\users\\user\\miniconda3\\envs\\okpy\\lib\\site-packages (from chromadb>=0.4.16->RAGChain) (4.1.3)\n",
      "Requirement already satisfied: typer>=0.9.0 in c:\\users\\user\\miniconda3\\envs\\okpy\\lib\\site-packages (from chromadb>=0.4.16->RAGChain) (0.12.3)\n",
      "Requirement already satisfied: kubernetes>=28.1.0 in c:\\users\\user\\miniconda3\\envs\\okpy\\lib\\site-packages (from chromadb>=0.4.16->RAGChain) (30.1.0)\n",
      "Requirement already satisfied: tenacity>=8.2.3 in c:\\users\\user\\miniconda3\\envs\\okpy\\lib\\site-packages (from chromadb>=0.4.16->RAGChain) (8.4.2)\n",
      "Requirement already satisfied: PyYAML>=6.0.0 in c:\\users\\user\\miniconda3\\envs\\okpy\\lib\\site-packages (from chromadb>=0.4.16->RAGChain) (6.0.1)\n",
      "Requirement already satisfied: mmh3>=4.0.1 in c:\\users\\user\\miniconda3\\envs\\okpy\\lib\\site-packages (from chromadb>=0.4.16->RAGChain) (4.1.0)\n",
      "Requirement already satisfied: orjson>=3.9.12 in c:\\users\\user\\miniconda3\\envs\\okpy\\lib\\site-packages (from chromadb>=0.4.16->RAGChain) (3.10.6)\n",
      "Requirement already satisfied: httpx>=0.27.0 in c:\\users\\user\\miniconda3\\envs\\okpy\\lib\\site-packages (from chromadb>=0.4.16->RAGChain) (0.27.0)\n",
      "Requirement already satisfied: SQLAlchemy<3,>=1.4 in c:\\users\\user\\miniconda3\\envs\\okpy\\lib\\site-packages (from langchain>=0.1.0->RAGChain) (2.0.31)\n",
      "Requirement already satisfied: langchain-core<0.3.0,>=0.2.10 in c:\\users\\user\\miniconda3\\envs\\okpy\\lib\\site-packages (from langchain>=0.1.0->RAGChain) (0.2.11)\n",
      "Requirement already satisfied: langchain-text-splitters<0.3.0,>=0.2.0 in c:\\users\\user\\miniconda3\\envs\\okpy\\lib\\site-packages (from langchain>=0.1.0->RAGChain) (0.2.2)\n",
      "Requirement already satisfied: langsmith<0.2.0,>=0.1.17 in c:\\users\\user\\miniconda3\\envs\\okpy\\lib\\site-packages (from langchain>=0.1.0->RAGChain) (0.1.83)\n",
      "Requirement already satisfied: aiosignal>=1.1.2 in c:\\users\\user\\miniconda3\\envs\\okpy\\lib\\site-packages (from aiohttp->RAGChain) (1.3.1)\n",
      "Requirement already satisfied: attrs>=17.3.0 in c:\\users\\user\\miniconda3\\envs\\okpy\\lib\\site-packages (from aiohttp->RAGChain) (23.2.0)\n",
      "Requirement already satisfied: frozenlist>=1.1.1 in c:\\users\\user\\miniconda3\\envs\\okpy\\lib\\site-packages (from aiohttp->RAGChain) (1.4.1)\n",
      "Requirement already satisfied: multidict<7.0,>=4.5 in c:\\users\\user\\miniconda3\\envs\\okpy\\lib\\site-packages (from aiohttp->RAGChain) (6.0.5)\n",
      "Requirement already satisfied: yarl<2.0,>=1.0 in c:\\users\\user\\miniconda3\\envs\\okpy\\lib\\site-packages (from aiohttp->RAGChain) (1.9.4)\n",
      "Requirement already satisfied: charset-normalizer<4,>=2 in c:\\users\\user\\miniconda3\\envs\\okpy\\lib\\site-packages (from requests->RAGChain) (3.3.2)\n",
      "Requirement already satisfied: idna<4,>=2.5 in c:\\users\\user\\miniconda3\\envs\\okpy\\lib\\site-packages (from requests->RAGChain) (3.7)\n",
      "Requirement already satisfied: certifi>=2017.4.17 in c:\\users\\user\\miniconda3\\envs\\okpy\\lib\\site-packages (from requests->RAGChain) (2024.6.2)\n",
      "Requirement already satisfied: colorama in c:\\users\\user\\miniconda3\\envs\\okpy\\lib\\site-packages (from tqdm->RAGChain) (0.4.6)\n",
      "Collecting soupsieve>1.2 (from beautifulsoup4->bs4)\n",
      "  Downloading soupsieve-2.5-py3-none-any.whl.metadata (4.7 kB)\n",
      "Requirement already satisfied: botocore<1.35.0,>=1.34.139 in c:\\users\\user\\miniconda3\\envs\\okpy\\lib\\site-packages (from boto3->RAGChain) (1.34.139)\n",
      "Requirement already satisfied: jmespath<2.0.0,>=0.7.1 in c:\\users\\user\\miniconda3\\envs\\okpy\\lib\\site-packages (from boto3->RAGChain) (1.0.1)\n",
      "Requirement already satisfied: s3transfer<0.11.0,>=0.10.0 in c:\\users\\user\\miniconda3\\envs\\okpy\\lib\\site-packages (from boto3->RAGChain) (0.10.2)\n",
      "Requirement already satisfied: filelock in c:\\users\\user\\miniconda3\\envs\\okpy\\lib\\site-packages (from datasets->RAGChain) (3.15.4)\n",
      "Requirement already satisfied: pyarrow-hotfix in c:\\users\\user\\miniconda3\\envs\\okpy\\lib\\site-packages (from datasets->RAGChain) (0.6)\n",
      "Requirement already satisfied: dill<0.3.9,>=0.3.0 in c:\\users\\user\\miniconda3\\envs\\okpy\\lib\\site-packages (from datasets->RAGChain) (0.3.8)\n",
      "Requirement already satisfied: xxhash in c:\\users\\user\\miniconda3\\envs\\okpy\\lib\\site-packages (from datasets->RAGChain) (3.4.1)\n",
      "Requirement already satisfied: multiprocess in c:\\users\\user\\miniconda3\\envs\\okpy\\lib\\site-packages (from datasets->RAGChain) (0.70.16)\n",
      "Requirement already satisfied: fsspec<=2024.5.0,>=2023.1.0 in c:\\users\\user\\miniconda3\\envs\\okpy\\lib\\site-packages (from fsspec[http]<=2024.5.0,>=2023.1.0->datasets->RAGChain) (2024.5.0)\n",
      "Requirement already satisfied: packaging in c:\\users\\user\\miniconda3\\envs\\okpy\\lib\\site-packages (from datasets->RAGChain) (24.1)\n",
      "Requirement already satisfied: cramjam>=2.3 in c:\\users\\user\\miniconda3\\envs\\okpy\\lib\\site-packages (from fastparquet->RAGChain) (2.8.3)\n",
      "Requirement already satisfied: python-dateutil>=2.8.2 in c:\\users\\user\\miniconda3\\envs\\okpy\\lib\\site-packages (from pandas->RAGChain) (2.9.0)\n",
      "Requirement already satisfied: pytz>=2020.1 in c:\\users\\user\\miniconda3\\envs\\okpy\\lib\\site-packages (from pandas->RAGChain) (2024.1)\n",
      "Requirement already satisfied: tzdata>=2022.7 in c:\\users\\user\\miniconda3\\envs\\okpy\\lib\\site-packages (from pandas->RAGChain) (2024.1)\n",
      "Requirement already satisfied: anyio<5,>=3.5.0 in c:\\users\\user\\miniconda3\\envs\\okpy\\lib\\site-packages (from openai->RAGChain) (4.4.0)\n",
      "Requirement already satisfied: distro<2,>=1.7.0 in c:\\users\\user\\miniconda3\\envs\\okpy\\lib\\site-packages (from openai->RAGChain) (1.9.0)\n",
      "Requirement already satisfied: sniffio in c:\\users\\user\\miniconda3\\envs\\okpy\\lib\\site-packages (from openai->RAGChain) (1.3.1)\n",
      "Requirement already satisfied: et-xmlfile in c:\\users\\user\\miniconda3\\envs\\okpy\\lib\\site-packages (from openpyxl->RAGChain) (1.1.0)\n",
      "Requirement already satisfied: cryptography>=36.0.0 in c:\\users\\user\\miniconda3\\envs\\okpy\\lib\\site-packages (from pdfminer.six->RAGChain) (42.0.8)\n",
      "Requirement already satisfied: pinecone-plugin-interface<0.0.8,>=0.0.7 in c:\\users\\user\\miniconda3\\envs\\okpy\\lib\\site-packages (from pinecone-client->RAGChain) (0.0.7)\n",
      "Requirement already satisfied: dnspython<3.0.0,>=1.16.0 in c:\\users\\user\\miniconda3\\envs\\okpy\\lib\\site-packages (from pymongo->RAGChain) (2.6.1)\n",
      "Requirement already satisfied: langchain-community in c:\\users\\user\\miniconda3\\envs\\okpy\\lib\\site-packages (from ragas->RAGChain) (0.2.6)\n",
      "Requirement already satisfied: langchain-openai in c:\\users\\user\\miniconda3\\envs\\okpy\\lib\\site-packages (from ragas->RAGChain) (0.1.14)\n",
      "Requirement already satisfied: pysbd>=0.3.4 in c:\\users\\user\\miniconda3\\envs\\okpy\\lib\\site-packages (from ragas->RAGChain) (0.3.4)\n",
      "Requirement already satisfied: nest-asyncio in c:\\users\\user\\miniconda3\\envs\\okpy\\lib\\site-packages (from ragas->RAGChain) (1.6.0)\n",
      "Requirement already satisfied: appdirs in c:\\users\\user\\miniconda3\\envs\\okpy\\lib\\site-packages (from ragas->RAGChain) (1.4.4)\n",
      "Requirement already satisfied: absl-py in c:\\users\\user\\miniconda3\\envs\\okpy\\lib\\site-packages (from rouge-score->RAGChain) (2.1.0)\n",
      "Requirement already satisfied: nltk in c:\\users\\user\\miniconda3\\envs\\okpy\\lib\\site-packages (from rouge-score->RAGChain) (3.8.1)\n",
      "Requirement already satisfied: six>=1.14.0 in c:\\users\\user\\miniconda3\\envs\\okpy\\lib\\site-packages (from rouge-score->RAGChain) (1.16.0)\n",
      "Requirement already satisfied: portalocker in c:\\users\\user\\miniconda3\\envs\\okpy\\lib\\site-packages (from sacrebleu->RAGChain) (2.10.0)\n",
      "Requirement already satisfied: regex in c:\\users\\user\\miniconda3\\envs\\okpy\\lib\\site-packages (from sacrebleu->RAGChain) (2024.5.15)\n",
      "Requirement already satisfied: tabulate>=0.8.9 in c:\\users\\user\\miniconda3\\envs\\okpy\\lib\\site-packages (from sacrebleu->RAGChain) (0.9.0)\n",
      "Requirement already satisfied: scipy>=1.6.0 in c:\\users\\user\\miniconda3\\envs\\okpy\\lib\\site-packages (from scikit-learn->RAGChain) (1.14.0)\n",
      "Requirement already satisfied: joblib>=1.2.0 in c:\\users\\user\\miniconda3\\envs\\okpy\\lib\\site-packages (from scikit-learn->RAGChain) (1.4.2)\n",
      "Requirement already satisfied: threadpoolctl>=3.1.0 in c:\\users\\user\\miniconda3\\envs\\okpy\\lib\\site-packages (from scikit-learn->RAGChain) (3.5.0)\n",
      "Requirement already satisfied: Pillow in c:\\users\\user\\miniconda3\\envs\\okpy\\lib\\site-packages (from sentence-transformers->RAGChain) (10.4.0)\n",
      "Requirement already satisfied: sympy in c:\\users\\user\\miniconda3\\envs\\okpy\\lib\\site-packages (from torch->RAGChain) (1.12.1)\n",
      "Requirement already satisfied: networkx in c:\\users\\user\\miniconda3\\envs\\okpy\\lib\\site-packages (from torch->RAGChain) (3.3)\n",
      "Requirement already satisfied: jinja2 in c:\\users\\user\\miniconda3\\envs\\okpy\\lib\\site-packages (from torch->RAGChain) (3.1.4)\n",
      "Requirement already satisfied: mkl<=2021.4.0,>=2021.1.1 in c:\\users\\user\\miniconda3\\envs\\okpy\\lib\\site-packages (from torch->RAGChain) (2021.4.0)\n",
      "Requirement already satisfied: safetensors>=0.4.1 in c:\\users\\user\\miniconda3\\envs\\okpy\\lib\\site-packages (from transformers->RAGChain) (0.4.3)\n",
      "Requirement already satisfied: pyproject_hooks in c:\\users\\user\\miniconda3\\envs\\okpy\\lib\\site-packages (from build>=1.0.3->chromadb>=0.4.16->RAGChain) (1.1.0)\n",
      "Requirement already satisfied: cffi>=1.12 in c:\\users\\user\\miniconda3\\envs\\okpy\\lib\\site-packages (from cryptography>=36.0.0->pdfminer.six->RAGChain) (1.16.0)\n",
      "Requirement already satisfied: starlette<0.38.0,>=0.37.2 in c:\\users\\user\\miniconda3\\envs\\okpy\\lib\\site-packages (from fastapi>=0.95.2->chromadb>=0.4.16->RAGChain) (0.37.2)\n",
      "Requirement already satisfied: fastapi-cli>=0.0.2 in c:\\users\\user\\miniconda3\\envs\\okpy\\lib\\site-packages (from fastapi>=0.95.2->chromadb>=0.4.16->RAGChain) (0.0.4)\n",
      "Requirement already satisfied: python-multipart>=0.0.7 in c:\\users\\user\\miniconda3\\envs\\okpy\\lib\\site-packages (from fastapi>=0.95.2->chromadb>=0.4.16->RAGChain) (0.0.9)\n",
      "Requirement already satisfied: ujson!=4.0.2,!=4.1.0,!=4.2.0,!=4.3.0,!=5.0.0,!=5.1.0,>=4.0.1 in c:\\users\\user\\miniconda3\\envs\\okpy\\lib\\site-packages (from fastapi>=0.95.2->chromadb>=0.4.16->RAGChain) (5.10.0)\n",
      "Requirement already satisfied: email_validator>=2.0.0 in c:\\users\\user\\miniconda3\\envs\\okpy\\lib\\site-packages (from fastapi>=0.95.2->chromadb>=0.4.16->RAGChain) (2.2.0)\n",
      "Requirement already satisfied: httpcore==1.* in c:\\users\\user\\miniconda3\\envs\\okpy\\lib\\site-packages (from httpx>=0.27.0->chromadb>=0.4.16->RAGChain) (1.0.5)\n",
      "Requirement already satisfied: h11<0.15,>=0.13 in c:\\users\\user\\miniconda3\\envs\\okpy\\lib\\site-packages (from httpcore==1.*->httpx>=0.27.0->chromadb>=0.4.16->RAGChain) (0.14.0)\n",
      "Requirement already satisfied: MarkupSafe>=2.0 in c:\\users\\user\\miniconda3\\envs\\okpy\\lib\\site-packages (from jinja2->torch->RAGChain) (2.1.5)\n",
      "Requirement already satisfied: google-auth>=1.0.1 in c:\\users\\user\\miniconda3\\envs\\okpy\\lib\\site-packages (from kubernetes>=28.1.0->chromadb>=0.4.16->RAGChain) (2.31.0)\n",
      "Requirement already satisfied: websocket-client!=0.40.0,!=0.41.*,!=0.42.*,>=0.32.0 in c:\\users\\user\\miniconda3\\envs\\okpy\\lib\\site-packages (from kubernetes>=28.1.0->chromadb>=0.4.16->RAGChain) (1.8.0)\n",
      "Requirement already satisfied: requests-oauthlib in c:\\users\\user\\miniconda3\\envs\\okpy\\lib\\site-packages (from kubernetes>=28.1.0->chromadb>=0.4.16->RAGChain) (2.0.0)\n",
      "Requirement already satisfied: oauthlib>=3.2.2 in c:\\users\\user\\miniconda3\\envs\\okpy\\lib\\site-packages (from kubernetes>=28.1.0->chromadb>=0.4.16->RAGChain) (3.2.2)\n",
      "Requirement already satisfied: jsonpatch<2.0,>=1.33 in c:\\users\\user\\miniconda3\\envs\\okpy\\lib\\site-packages (from langchain-core<0.3.0,>=0.2.10->langchain>=0.1.0->RAGChain) (1.33)\n",
      "Requirement already satisfied: intel-openmp==2021.* in c:\\users\\user\\miniconda3\\envs\\okpy\\lib\\site-packages (from mkl<=2021.4.0,>=2021.1.1->torch->RAGChain) (2021.4.0)\n",
      "Requirement already satisfied: tbb==2021.* in c:\\users\\user\\miniconda3\\envs\\okpy\\lib\\site-packages (from mkl<=2021.4.0,>=2021.1.1->torch->RAGChain) (2021.13.0)\n",
      "Requirement already satisfied: coloredlogs in c:\\users\\user\\miniconda3\\envs\\okpy\\lib\\site-packages (from onnxruntime>=1.14.1->chromadb>=0.4.16->RAGChain) (15.0.1)\n",
      "Requirement already satisfied: flatbuffers in c:\\users\\user\\miniconda3\\envs\\okpy\\lib\\site-packages (from onnxruntime>=1.14.1->chromadb>=0.4.16->RAGChain) (24.3.25)\n",
      "Requirement already satisfied: protobuf in c:\\users\\user\\miniconda3\\envs\\okpy\\lib\\site-packages (from onnxruntime>=1.14.1->chromadb>=0.4.16->RAGChain) (4.25.3)\n",
      "Requirement already satisfied: deprecated>=1.2.6 in c:\\users\\user\\miniconda3\\envs\\okpy\\lib\\site-packages (from opentelemetry-api>=1.2.0->chromadb>=0.4.16->RAGChain) (1.2.14)\n",
      "Requirement already satisfied: importlib-metadata<=7.1,>=6.0 in c:\\users\\user\\miniconda3\\envs\\okpy\\lib\\site-packages (from opentelemetry-api>=1.2.0->chromadb>=0.4.16->RAGChain) (7.1.0)\n",
      "Requirement already satisfied: googleapis-common-protos~=1.52 in c:\\users\\user\\miniconda3\\envs\\okpy\\lib\\site-packages (from opentelemetry-exporter-otlp-proto-grpc>=1.2.0->chromadb>=0.4.16->RAGChain) (1.63.2)\n",
      "Requirement already satisfied: opentelemetry-exporter-otlp-proto-common==1.25.0 in c:\\users\\user\\miniconda3\\envs\\okpy\\lib\\site-packages (from opentelemetry-exporter-otlp-proto-grpc>=1.2.0->chromadb>=0.4.16->RAGChain) (1.25.0)\n",
      "Requirement already satisfied: opentelemetry-proto==1.25.0 in c:\\users\\user\\miniconda3\\envs\\okpy\\lib\\site-packages (from opentelemetry-exporter-otlp-proto-grpc>=1.2.0->chromadb>=0.4.16->RAGChain) (1.25.0)\n",
      "Requirement already satisfied: opentelemetry-instrumentation-asgi==0.46b0 in c:\\users\\user\\miniconda3\\envs\\okpy\\lib\\site-packages (from opentelemetry-instrumentation-fastapi>=0.41b0->chromadb>=0.4.16->RAGChain) (0.46b0)\n",
      "Requirement already satisfied: opentelemetry-instrumentation==0.46b0 in c:\\users\\user\\miniconda3\\envs\\okpy\\lib\\site-packages (from opentelemetry-instrumentation-fastapi>=0.41b0->chromadb>=0.4.16->RAGChain) (0.46b0)\n",
      "Requirement already satisfied: opentelemetry-semantic-conventions==0.46b0 in c:\\users\\user\\miniconda3\\envs\\okpy\\lib\\site-packages (from opentelemetry-instrumentation-fastapi>=0.41b0->chromadb>=0.4.16->RAGChain) (0.46b0)\n",
      "Requirement already satisfied: opentelemetry-util-http==0.46b0 in c:\\users\\user\\miniconda3\\envs\\okpy\\lib\\site-packages (from opentelemetry-instrumentation-fastapi>=0.41b0->chromadb>=0.4.16->RAGChain) (0.46b0)\n",
      "Requirement already satisfied: setuptools>=16.0 in c:\\users\\user\\miniconda3\\envs\\okpy\\lib\\site-packages (from opentelemetry-instrumentation==0.46b0->opentelemetry-instrumentation-fastapi>=0.41b0->chromadb>=0.4.16->RAGChain) (69.5.1)\n",
      "Requirement already satisfied: wrapt<2.0.0,>=1.0.0 in c:\\users\\user\\miniconda3\\envs\\okpy\\lib\\site-packages (from opentelemetry-instrumentation==0.46b0->opentelemetry-instrumentation-fastapi>=0.41b0->chromadb>=0.4.16->RAGChain) (1.16.0)\n",
      "Requirement already satisfied: asgiref~=3.0 in c:\\users\\user\\miniconda3\\envs\\okpy\\lib\\site-packages (from opentelemetry-instrumentation-asgi==0.46b0->opentelemetry-instrumentation-fastapi>=0.41b0->chromadb>=0.4.16->RAGChain) (3.8.1)\n",
      "Requirement already satisfied: monotonic>=1.5 in c:\\users\\user\\miniconda3\\envs\\okpy\\lib\\site-packages (from posthog>=2.4.0->chromadb>=0.4.16->RAGChain) (1.6)\n",
      "Requirement already satisfied: backoff>=1.10.0 in c:\\users\\user\\miniconda3\\envs\\okpy\\lib\\site-packages (from posthog>=2.4.0->chromadb>=0.4.16->RAGChain) (2.2.1)\n",
      "Requirement already satisfied: greenlet!=0.4.17 in c:\\users\\user\\miniconda3\\envs\\okpy\\lib\\site-packages (from SQLAlchemy<3,>=1.4->langchain>=0.1.0->RAGChain) (3.0.3)\n",
      "Requirement already satisfied: shellingham>=1.3.0 in c:\\users\\user\\miniconda3\\envs\\okpy\\lib\\site-packages (from typer>=0.9.0->chromadb>=0.4.16->RAGChain) (1.5.4)\n",
      "Requirement already satisfied: rich>=10.11.0 in c:\\users\\user\\miniconda3\\envs\\okpy\\lib\\site-packages (from typer>=0.9.0->chromadb>=0.4.16->RAGChain) (13.7.1)\n",
      "Requirement already satisfied: httptools>=0.5.0 in c:\\users\\user\\miniconda3\\envs\\okpy\\lib\\site-packages (from uvicorn[standard]>=0.18.3->chromadb>=0.4.16->RAGChain) (0.6.1)\n",
      "Requirement already satisfied: watchfiles>=0.13 in c:\\users\\user\\miniconda3\\envs\\okpy\\lib\\site-packages (from uvicorn[standard]>=0.18.3->chromadb>=0.4.16->RAGChain) (0.22.0)\n",
      "Requirement already satisfied: websockets>=10.4 in c:\\users\\user\\miniconda3\\envs\\okpy\\lib\\site-packages (from uvicorn[standard]>=0.18.3->chromadb>=0.4.16->RAGChain) (12.0)\n",
      "Requirement already satisfied: dataclasses-json<0.7,>=0.5.7 in c:\\users\\user\\miniconda3\\envs\\okpy\\lib\\site-packages (from langchain-community->ragas->RAGChain) (0.6.7)\n",
      "Requirement already satisfied: pywin32>=226 in c:\\users\\user\\miniconda3\\envs\\okpy\\lib\\site-packages (from portalocker->sacrebleu->RAGChain) (306)\n",
      "Requirement already satisfied: mpmath<1.4.0,>=1.1.0 in c:\\users\\user\\miniconda3\\envs\\okpy\\lib\\site-packages (from sympy->torch->RAGChain) (1.3.0)\n",
      "Requirement already satisfied: pycparser in c:\\users\\user\\miniconda3\\envs\\okpy\\lib\\site-packages (from cffi>=1.12->cryptography>=36.0.0->pdfminer.six->RAGChain) (2.22)\n",
      "Requirement already satisfied: marshmallow<4.0.0,>=3.18.0 in c:\\users\\user\\miniconda3\\envs\\okpy\\lib\\site-packages (from dataclasses-json<0.7,>=0.5.7->langchain-community->ragas->RAGChain) (3.21.3)\n",
      "Requirement already satisfied: typing-inspect<1,>=0.4.0 in c:\\users\\user\\miniconda3\\envs\\okpy\\lib\\site-packages (from dataclasses-json<0.7,>=0.5.7->langchain-community->ragas->RAGChain) (0.9.0)\n",
      "Requirement already satisfied: cachetools<6.0,>=2.0.0 in c:\\users\\user\\miniconda3\\envs\\okpy\\lib\\site-packages (from google-auth>=1.0.1->kubernetes>=28.1.0->chromadb>=0.4.16->RAGChain) (5.3.3)\n",
      "Requirement already satisfied: pyasn1-modules>=0.2.1 in c:\\users\\user\\miniconda3\\envs\\okpy\\lib\\site-packages (from google-auth>=1.0.1->kubernetes>=28.1.0->chromadb>=0.4.16->RAGChain) (0.4.0)\n",
      "Requirement already satisfied: rsa<5,>=3.1.4 in c:\\users\\user\\miniconda3\\envs\\okpy\\lib\\site-packages (from google-auth>=1.0.1->kubernetes>=28.1.0->chromadb>=0.4.16->RAGChain) (4.9)\n",
      "Requirement already satisfied: zipp>=0.5 in c:\\users\\user\\miniconda3\\envs\\okpy\\lib\\site-packages (from importlib-metadata<=7.1,>=6.0->opentelemetry-api>=1.2.0->chromadb>=0.4.16->RAGChain) (3.19.2)\n",
      "Requirement already satisfied: jsonpointer>=1.9 in c:\\users\\user\\miniconda3\\envs\\okpy\\lib\\site-packages (from jsonpatch<2.0,>=1.33->langchain-core<0.3.0,>=0.2.10->langchain>=0.1.0->RAGChain) (3.0.0)\n",
      "Requirement already satisfied: markdown-it-py>=2.2.0 in c:\\users\\user\\miniconda3\\envs\\okpy\\lib\\site-packages (from rich>=10.11.0->typer>=0.9.0->chromadb>=0.4.16->RAGChain) (3.0.0)\n",
      "Requirement already satisfied: pygments<3.0.0,>=2.13.0 in c:\\users\\user\\miniconda3\\envs\\okpy\\lib\\site-packages (from rich>=10.11.0->typer>=0.9.0->chromadb>=0.4.16->RAGChain) (2.18.0)\n",
      "Requirement already satisfied: humanfriendly>=9.1 in c:\\users\\user\\miniconda3\\envs\\okpy\\lib\\site-packages (from coloredlogs->onnxruntime>=1.14.1->chromadb>=0.4.16->RAGChain) (10.0)\n",
      "Requirement already satisfied: pyreadline3 in c:\\users\\user\\miniconda3\\envs\\okpy\\lib\\site-packages (from humanfriendly>=9.1->coloredlogs->onnxruntime>=1.14.1->chromadb>=0.4.16->RAGChain) (3.4.1)\n",
      "Requirement already satisfied: mdurl~=0.1 in c:\\users\\user\\miniconda3\\envs\\okpy\\lib\\site-packages (from markdown-it-py>=2.2.0->rich>=10.11.0->typer>=0.9.0->chromadb>=0.4.16->RAGChain) (0.1.2)\n",
      "Requirement already satisfied: pyasn1<0.7.0,>=0.4.6 in c:\\users\\user\\miniconda3\\envs\\okpy\\lib\\site-packages (from pyasn1-modules>=0.2.1->google-auth>=1.0.1->kubernetes>=28.1.0->chromadb>=0.4.16->RAGChain) (0.6.0)\n",
      "Requirement already satisfied: mypy-extensions>=0.3.0 in c:\\users\\user\\miniconda3\\envs\\okpy\\lib\\site-packages (from typing-inspect<1,>=0.4.0->dataclasses-json<0.7,>=0.5.7->langchain-community->ragas->RAGChain) (1.0.0)\n",
      "Downloading bs4-0.0.2-py2.py3-none-any.whl (1.2 kB)\n",
      "Downloading beautifulsoup4-4.12.3-py3-none-any.whl (147 kB)\n",
      "   ---------------------------------------- 0.0/147.9 kB ? eta -:--:--\n",
      "   ------------------------ --------------- 92.2/147.9 kB 5.5 MB/s eta 0:00:01\n",
      "   ---------------------------------------- 147.9/147.9 kB 4.4 MB/s eta 0:00:00\n",
      "Downloading soupsieve-2.5-py3-none-any.whl (36 kB)\n",
      "Installing collected packages: soupsieve, beautifulsoup4, bs4\n",
      "Successfully installed beautifulsoup4-4.12.3 bs4-0.0.2 soupsieve-2.5\n"
     ]
    }
   ],
   "source": [
    "#!pip -V\n",
    "!pip install python-dotenv RAGChain bs4"
   ]
  },
  {
   "cell_type": "code",
   "execution_count": 18,
   "metadata": {},
   "outputs": [
    {
     "data": {
      "text/plain": [
       "True"
      ]
     },
     "execution_count": 18,
     "metadata": {},
     "output_type": "execute_result"
    }
   ],
   "source": [
    "# .env 환경설정 파일을 읽어서 환경변수로 설정\n",
    "from dotenv import load_dotenv\n",
    "load_dotenv()"
   ]
  },
  {
   "cell_type": "markdown",
   "metadata": {},
   "source": [
    "## HWP 문서 가져오기\n",
    "\n",
    "https://nomadamas.gitbook.io/ragchain-docs/ragchain-structure/file-loader/win32-hwp-loader"
   ]
  },
  {
   "cell_type": "code",
   "execution_count": 48,
   "metadata": {},
   "outputs": [
    {
     "data": {
      "text/plain": [
       "10"
      ]
     },
     "execution_count": 48,
     "metadata": {},
     "output_type": "execute_result"
    }
   ],
   "source": [
    "from RAGchain.preprocess.loader import Win32HwpLoader\n",
    "\n",
    "loader = Win32HwpLoader(\"rawdata/(첨부5) 2024년도 하반기 중남미 지역기구 파견인턴 선발 공고.hwpx\")\n",
    "documents = loader.load()\n",
    "\n",
    "len(documents)"
   ]
  },
  {
   "cell_type": "code",
   "execution_count": 20,
   "metadata": {},
   "outputs": [
    {
     "name": "stdout",
     "output_type": "stream",
     "text": [
      "('2024년도 하반기 중남미 지역기구 파견 인턴 선발 공고1. 선발 개요  가. 공통 자격요건   ㅇ 대한민국 국적자로, 국내외 '\n",
      " '대학생(3-4학년) 또는 대학원생   ㅇ 영어 또는 스페인어로 업무처리가 가능한 자   나. 기구별 선발 기간 및 인원   ㅇ 파견기간은 '\n",
      " '원칙적으로 4~6개월이나, 기구 사정에 따라 변동 가능       - OAS(미주기구)의 경우 선발 후 25년 상반기 파견   ㅇ 기구별 '\n",
      " '선호 상세 지원자격은 본 공고 4페이지 “참고1” 참조    다. 지원 내역 : 왕복 항공료(정액), 현지 정착비 및 월 체재비     '\n",
      " '※ 다만, 지원금으로 충당할 수 없는 파견 기구 및 파견국의 물가 등에 따라 발생하는 기타 비용은 지원자 부담 필요 2. 선발 일정   '\n",
      " 'ㅇ 2024.5.30.(목) 18:00서류접수 마감(이메일 접수)    ㅇ 2024.5.31.(금)  서류전형 합격자 발표(개별 '\n",
      " '통보)   ㅇ 2024.6.4.(화)       필기시험 및 면접시험(상세내용 추후 공지)   ㅇ 2024.6.10.(월) 외교부 추천 '\n",
      " '후보자 발표(개별 통보)   ㅇ 2024.6.11.(화) ~기구측에 우리측 후보자 추천   ㅇ 2024.6월~2024.7월  최종 합격자 '\n",
      " '발표(개별 통보)     3. 서류 접수 안내   ㅇ 외교부 중남미협력과 이메일(latinca@mofa.go.kr)로 관련 서류 '\n",
      " '송부    - 국문 신청서 : 한글 파일(*hwp) 또는 PDF 파일         ※ 지원자는 국문 신청서에 지원기구 1순위 및 2순위 '\n",
      " '기재 요망         - ▵영문 신청서(Application for Internship, Curriculum Vitae) 각 1부, '\n",
      " '▵영문 재학 또는 휴학증명서, ▵영문 대학 및 대학원 성적증명서, ▵기타 증명서 : 1개의 컬러 PDF 파일로 변환하여 송부     - '\n",
      " '영문 교수 추천서 1부 : 추천 교수가 직접 외교부 중남미협력과 이메일로 송부    - 백신 접종 증명서(접종 완료자 해당 시)    '\n",
      " '4. 문의 사항 : 외교부 중남미협력과(0mailto:latinca@mofa.go.kr;2;0;0latinca@mofa.go.kr, '\n",
      " '(02-2100-8091)로 문의      ※ 포르투갈어 사용자 또한 영어 및 스페인어 시험에 응시하여야 하며, 포어 사용 '\n",
      " '기구(ACTO, OPANAL 등) 후보자 선발에 한해 어학성적증명서 제출로 스페인어 시험을 갈음(CELPE-Bras 중상급 이상 혹은 '\n",
      " 'CAPLE 중급 B2 이상) ')\n"
     ]
    }
   ],
   "source": [
    "from pprint import pprint\n",
    "pprint(documents[0].page_content)"
   ]
  },
  {
   "cell_type": "code",
   "execution_count": 21,
   "metadata": {},
   "outputs": [
    {
     "name": "stdout",
     "output_type": "stream",
     "text": [
      "('<table\\n'\n",
      " '                    border=\"1\"\\n'\n",
      " '                    width=\"50%\"\\n'\n",
      " '                    height=\"200\"\\n'\n",
      " '                    cellspacing=\"5\">\\n'\n",
      " '\\t <tr>\\n'\n",
      " '\\t \\t <td>(학력)※ 위 학력사항은 기본 요건이며, 기구별 상세요건 확인 요망※ 기구별 학력요건은 본 공고 4페이지 “참고1” '\n",
      " '참조(어학)※ 어학능력 증빙 자료(어학성적, 자격증 등) 제출 요망 ※ 증빙자료가 없을 시 언어 능력 뒷받침할 수 있는 내용을 신청서에 '\n",
      " '기재※ 기구별 어학요건은 본 공고 4페이지 “참고1” 참조(기타 고려사항)※ 대한민국 정부가 지원하는 유사 인턴 프로그램 기참가자는 지원 '\n",
      " '불가※ 비수도권대학 학생의 지원 장려(총 인원의 30%이상 비수도권대학에서 선발할 계획. 다만, 비수도권대학 학생 지원율 저조 등 사유가 '\n",
      " '있는 경우 동 목표 비율은 탄력적으로 조정될 예정)   *비수도권대학 판단 기준은 국가법령정보센터(www.law.go.kr)에 게시된 '\n",
      " '‘균형인사지침’ 참고※ 백신 접종 완료 여부 확인을 위한 백신접종완료증명서 사본 제출</td>\\n'\n",
      " '\\t </tr>\\n'\n",
      " '</table>')\n"
     ]
    }
   ],
   "source": [
    "pprint(documents[1].page_content)"
   ]
  },
  {
   "cell_type": "markdown",
   "metadata": {},
   "source": [
    "## Simple RAG"
   ]
  },
  {
   "cell_type": "markdown",
   "metadata": {},
   "source": [
    "#### Indexing"
   ]
  },
  {
   "cell_type": "code",
   "execution_count": 22,
   "metadata": {},
   "outputs": [],
   "source": [
    "from langchain_community.vectorstores import Chroma\n",
    "from langchain_core.output_parsers import StrOutputParser\n",
    "from langchain_core.runnables import RunnablePassthrough\n",
    "from langchain_text_splitters import RecursiveCharacterTextSplitter\n",
    "from langchain_community.chat_models import ChatOllama\n",
    "from langchain.prompts import ChatPromptTemplate"
   ]
  },
  {
   "cell_type": "code",
   "execution_count": 23,
   "metadata": {},
   "outputs": [
    {
     "name": "stderr",
     "output_type": "stream",
     "text": [
      "c:\\Users\\user\\miniconda3\\envs\\okpy\\Lib\\site-packages\\langchain_core\\_api\\deprecation.py:139: LangChainDeprecationWarning: The class `HuggingFaceEmbeddings` was deprecated in LangChain 0.2.2 and will be removed in 0.3.0. An updated version of the class exists in the langchain-huggingface package and should be used instead. To use it run `pip install -U langchain-huggingface` and import as `from langchain_huggingface import HuggingFaceEmbeddings`.\n",
      "  warn_deprecated(\n",
      "No sentence-transformers model found with name BM-K/KoSimCSE-roberta-multitask. Creating a new one with mean pooling.\n",
      "c:\\Users\\user\\miniconda3\\envs\\okpy\\Lib\\site-packages\\huggingface_hub\\file_download.py:157: UserWarning: `huggingface_hub` cache-system uses symlinks by default to efficiently store duplicated files but your machine does not support them in C:\\Users\\user\\.cache\\huggingface\\hub\\models--BM-K--KoSimCSE-roberta-multitask. Caching files will still work but in a degraded version that might require more space on your disk. This warning can be disabled by setting the `HF_HUB_DISABLE_SYMLINKS_WARNING` environment variable. For more details, see https://huggingface.co/docs/huggingface_hub/how-to-cache#limitations.\n",
      "To support symlinks on Windows, you either need to activate Developer Mode or to run Python as an administrator. In order to see activate developer mode, see this article: https://docs.microsoft.com/en-us/windows/apps/get-started/enable-your-device-for-development\n",
      "  warnings.warn(message)\n"
     ]
    }
   ],
   "source": [
    "# HugoingFace Embeddings를 다운로드\n",
    "from langchain.embeddings import HuggingFaceEmbeddings\n",
    "\n",
    "embedding_model_name = \"BM-K/KoSimCSE-roberta-multitask\"\n",
    "\n",
    "embeddings_model = HuggingFaceEmbeddings(\n",
    "    model_name=embedding_model_name,  \n",
    ")\n",
    "\n",
    "# HugoingFace Embedding 모델의 Tokenizer를 사용하여 토큰화\n",
    "from transformers import AutoTokenizer\n",
    "tokenizer = AutoTokenizer.from_pretrained(embedding_model_name)"
   ]
  },
  {
   "cell_type": "code",
   "execution_count": 24,
   "metadata": {},
   "outputs": [
    {
     "data": {
      "text/plain": [
       "HuggingFaceEmbeddings(client=SentenceTransformer(\n",
       "  (0): Transformer({'max_seq_length': 512, 'do_lower_case': False}) with Transformer model: RobertaModel \n",
       "  (1): Pooling({'word_embedding_dimension': 768, 'pooling_mode_cls_token': False, 'pooling_mode_mean_tokens': True, 'pooling_mode_max_tokens': False, 'pooling_mode_mean_sqrt_len_tokens': False, 'pooling_mode_weightedmean_tokens': False, 'pooling_mode_lasttoken': False, 'include_prompt': True})\n",
       "), model_name='BM-K/KoSimCSE-roberta-multitask', cache_folder=None, model_kwargs={}, encode_kwargs={}, multi_process=False, show_progress=False)"
      ]
     },
     "execution_count": 24,
     "metadata": {},
     "output_type": "execute_result"
    }
   ],
   "source": [
    "embeddings_model"
   ]
  },
  {
   "cell_type": "code",
   "execution_count": 25,
   "metadata": {},
   "outputs": [
    {
     "name": "stdout",
     "output_type": "stream",
     "text": [
      "17\n",
      "page_content='2024년도 하반기 중남미 지역기구 파견 인턴 선발 공고1. 선발 개요  가. 공통 자격요건   ㅇ 대한민국 국적자로, 국내외 대학생(3-4학년) 또는 대학원생   ㅇ 영어 또는 스페인어로 업무처리가 가능한 자   나. 기구별 선발 기간 및 인원   ㅇ 파견기간은 원칙적으로 4~6개월이나, 기구 사정에 따라 변동 가능       - OAS(미주기구)의 경우 선발 후 25년 상반기 파견   ㅇ 기구별 선호 상세 지원자격은 본 공고 4페이지 “참고1” 참조    다. 지원 내역 : 왕복 항공료(정액), 현지 정착비 및 월 체재비' metadata={'source': '(첨부5) 2024년도 하반기 중남미 지역기구 파견인턴 선발 공고.hwpx', 'page_type': 'text'}\n"
     ]
    }
   ],
   "source": [
    "# Token 수를 기준으ㄹ 문서를 청크 단위로 분할\n",
    "text_splitter = RecursiveCharacterTextSplitter.from_huggingface_tokenizer(\n",
    "    tokenizer = tokenizer,\n",
    "    chunk_size = 500,\n",
    "    chunk_overlap  = 50,\n",
    ")\n",
    "\n",
    "split_docs = text_splitter.split_documents(documents)\n",
    "print(len(split_docs))\n",
    "print(split_docs[0])"
   ]
  },
  {
   "cell_type": "code",
   "execution_count": 26,
   "metadata": {},
   "outputs": [],
   "source": [
    "vectorstore = Chroma.from_documents(documents=split_docs, \n",
    "                                    embedding=embeddings_model)"
   ]
  },
  {
   "cell_type": "markdown",
   "metadata": {},
   "source": [
    "#### Retreival"
   ]
  },
  {
   "cell_type": "code",
   "execution_count": 28,
   "metadata": {},
   "outputs": [
    {
     "name": "stdout",
     "output_type": "stream",
     "text": [
      "파견 기간은 원칙적으로 4~6개월이나, 기구 사정에 따라 변동 가능합니다. \n",
      "\n",
      "\n",
      "각 기구별 파견 기간은 아래와 같습니다.\n",
      "\n",
      "* PARLATINO(라틴아메리카의회): 6개월\n",
      "* IOM(국제이주기구): 6개월\n",
      "* OPANAL(중남미핵무기금지기구): 2024.7월 ~ 11월\n",
      "* GGGI(글로벌녹색성장연구소): 추후 조율\n",
      "* SEGIB(이베로아메리카사무국):  공고에 없음 \n",
      "\n"
     ]
    }
   ],
   "source": [
    "# VectorStore를 사용하여 검색기 생성\n",
    "retriever = vectorstore.as_retriever(search_kwargs={'k': 2})\n",
    "\n",
    "# Prompt\n",
    "template = \"\"\"Answer the question based only on the following context:\n",
    "{context}\n",
    "\n",
    "Question: {question}\n",
    "\"\"\"\n",
    "\n",
    "prompt = ChatPromptTemplate.from_template(template)\n",
    "\n",
    "# Chat Model\n",
    "llm = ChatOllama(model=\"gemma2\")\n",
    "\n",
    "\n",
    "def format_docs(docs):\n",
    "    # 중복을 제거\n",
    "    unique_contents = set(doc.page_content for doc in docs)\n",
    "    \n",
    "    # \\n\\n으로 연결하여 문자열로 반환\n",
    "    return \"\\n\\n\".join(unique_contents)\n",
    "\n",
    "\n",
    "# RAG Chain\n",
    "rag_chain = (\n",
    "    {\"context\": retriever | format_docs, \"question\": RunnablePassthrough()}\n",
    "    | prompt\n",
    "    | llm\n",
    "    | StrOutputParser()\n",
    ")\n",
    "\n",
    "# Chain 실행\n",
    "response = rag_chain.invoke(\"파견 기간은 얼마인가요?\")\n",
    "print(response)"
   ]
  },
  {
   "cell_type": "code",
   "execution_count": 29,
   "metadata": {},
   "outputs": [
    {
     "name": "stderr",
     "output_type": "stream",
     "text": [
      "c:\\Users\\user\\miniconda3\\envs\\okpy\\Lib\\site-packages\\langchain_core\\_api\\deprecation.py:139: LangChainDeprecationWarning: The method `BaseRetriever.get_relevant_documents` was deprecated in langchain-core 0.1.46 and will be removed in 0.3.0. Use invoke instead.\n",
      "  warn_deprecated(\n"
     ]
    },
    {
     "data": {
      "text/plain": [
       "[Document(metadata={'page_type': 'text', 'source': '(첨부5) 2024년도 하반기 중남미 지역기구 파견인턴 선발 공고.hwpx'}, page_content='2024년도 하반기 중남미 지역기구 파견 인턴 선발 공고1. 선발 개요  가. 공통 자격요건   ㅇ 대한민국 국적자로, 국내외 대학생(3-4학년) 또는 대학원생   ㅇ 영어 또는 스페인어로 업무처리가 가능한 자   나. 기구별 선발 기간 및 인원   ㅇ 파견기간은 원칙적으로 4~6개월이나, 기구 사정에 따라 변동 가능       - OAS(미주기구)의 경우 선발 후 25년 상반기 파견   ㅇ 기구별 선호 상세 지원자격은 본 공고 4페이지 “참고1” 참조    다. 지원 내역 : 왕복 항공료(정액), 현지 정착비 및 월 체재비'),\n",
       " Document(metadata={'page_type': 'table', 'source': '(첨부5) 2024년도 하반기 중남미 지역기구 파견인턴 선발 공고.hwpx'}, page_content='<table\\n                    border=\"1\"\\n                    width=\"50%\"\\n                    height=\"200\"\\n                    cellspacing=\"5\">\\n\\t <tr>\\n\\t \\t <td>기구명</td>\\n\\t \\t <td>파견지</td>\\n\\t \\t <td>파견 기간</td>\\n\\t \\t <td>인원</td>\\n\\t </tr>\\n\\t <tr>\\n\\t \\t <td>PARLATINO(라틴아메리카의회)</td>\\n\\t \\t <td>파나마</td>\\n\\t \\t <td>6개월</td>\\n\\t \\t <td>1</td>\\n\\t </tr>\\n\\t <tr>\\n\\t \\t <td>IOM(국제이주기구)</td>\\n\\t \\t <td>페루</td>\\n\\t \\t <td>6개월</td>\\n\\t \\t <td>1</td>\\n\\t </tr>\\n\\t <tr>\\n\\t \\t <td>OPANAL(중남미핵무기금지기구)</td>\\n\\t \\t <td>멕시코</td>\\n\\t \\t <td>2024.7월 ~ 11월</td>\\n\\t \\t <td>1</td>\\n\\t </tr>\\n\\t <tr>\\n\\t \\t <td>GGGI(글로벌녹색성장연구소)</td>\\n\\t \\t <td>파라과이</td>\\n\\t \\t <td>추후 조율</td>\\n\\t \\t <td>1</td>\\n\\t </tr>\\n\\t <tr>\\n\\t \\t <td>SEGIB(이베로아메리카사무국)</td>')]"
      ]
     },
     "execution_count": 29,
     "metadata": {},
     "output_type": "execute_result"
    }
   ],
   "source": [
    "retriever.get_relevant_documents(\"파견 기간은 얼마인가요?\")"
   ]
  },
  {
   "cell_type": "code",
   "execution_count": 30,
   "metadata": {},
   "outputs": [
    {
     "name": "stdout",
     "output_type": "stream",
     "text": [
      "2024.6.4.(화)  \n",
      "\n"
     ]
    }
   ],
   "source": [
    "response = rag_chain.invoke(\"필기시험이 있는 날짜는 언제인가요?\")\n",
    "print(response)"
   ]
  },
  {
   "cell_type": "code",
   "execution_count": 31,
   "metadata": {},
   "outputs": [
    {
     "data": {
      "text/plain": [
       "[Document(metadata={'page_type': 'text', 'source': '(첨부5) 2024년도 하반기 중남미 지역기구 파견인턴 선발 공고.hwpx'}, page_content='왕복 항공료(정액), 현지 정착비 및 월 체재비     ※ 다만, 지원금으로 충당할 수 없는 파견 기구 및 파견국의 물가 등에 따라 발생하는 기타 비용은 지원자 부담 필요 2. 선발 일정   ㅇ 2024.5.30.(목) 18:00서류접수 마감(이메일 접수)    ㅇ 2024.5.31.(금)  서류전형 합격자 발표(개별 통보)   ㅇ 2024.6.4.(화)       필기시험 및 면접시험(상세내용 추후 공지)   ㅇ 2024.6.10.(월) 외교부 추천 후보자 발표(개별 통보)   ㅇ 2024.6.11.(화) ~기구측에 우리측 후보자 추천   ㅇ'),\n",
       " Document(metadata={'page_type': 'table', 'source': '(첨부5) 2024년도 하반기 중남미 지역기구 파견인턴 선발 공고.hwpx'}, page_content='<table\\n                    border=\"1\"\\n                    width=\"50%\"\\n                    height=\"200\"\\n                    cellspacing=\"5\">\\n\\t <tr>\\n\\t \\t <td>※ 외교부 추천 후보자에 대해 각 지역기구가 최종 합격 여부를 결정하며, 동 과정에서 후보자가 합격하지 못할 수 있음※ 상기 일정은 외교부 및 인턴 접수 기구의 사정에 의해 변경될 수 있음※ 기구측에 추천되는 후보자들은 이메일 접수서류의 원본을 제출해야 하며, 제출된 서류는 일체 반환하지 않음※ 필기시험 평가 항목은 5페이지 “참고2” 참조</td>\\n\\t </tr>\\n</table>')]"
      ]
     },
     "execution_count": 31,
     "metadata": {},
     "output_type": "execute_result"
    }
   ],
   "source": [
    "retriever.get_relevant_documents(\"필기시험이 있는 날짜는 언제인가요?\")"
   ]
  },
  {
   "cell_type": "code",
   "execution_count": 32,
   "metadata": {},
   "outputs": [
    {
     "name": "stdout",
     "output_type": "stream",
     "text": [
      "The provided text does not contain information about the International Organization for Migration (IOM). \n",
      "\n",
      "\n",
      "\n"
     ]
    }
   ],
   "source": [
    "response = rag_chain.invoke(\"국제이주기구 파견은 언제 하나요?\")\n",
    "print(response)"
   ]
  },
  {
   "cell_type": "code",
   "execution_count": 33,
   "metadata": {},
   "outputs": [
    {
     "data": {
      "text/plain": [
       "[Document(metadata={'page_type': 'table', 'source': '(첨부5) 2024년도 하반기 중남미 지역기구 파견인턴 선발 공고.hwpx'}, page_content='<table\\n                    border=\"1\"\\n                    width=\"50%\"\\n                    height=\"200\"\\n                    cellspacing=\"5\">\\n\\t <tr>\\n\\t \\t <td>※ 상기 지역기구 외에도 기타 지역기구로부터 인턴 수요가 추가적으로 발생 가능※ 각 지역기구별 적격자가 없다고 판단되는 경우 선발하지 않을 수 있음※ 치안 등 지역기구 소재지 내 제반 사정에 따라 일정 조정 등 변동 가능 ※ 각 지역 기구에 관한 상세 내용은 ‘외교부 홈페이지(www.mofa.go.kr)>외교정책>국제기구‧지역협력체>중남미지역기구’ 참고</td>\\n\\t </tr>\\n</table>'),\n",
       " Document(metadata={'page_type': 'text', 'source': '(첨부5) 2024년도 하반기 중남미 지역기구 파견인턴 선발 공고.hwpx'}, page_content='2024년도 하반기 중남미 지역기구 파견 인턴 선발 공고1. 선발 개요  가. 공통 자격요건   ㅇ 대한민국 국적자로, 국내외 대학생(3-4학년) 또는 대학원생   ㅇ 영어 또는 스페인어로 업무처리가 가능한 자   나. 기구별 선발 기간 및 인원   ㅇ 파견기간은 원칙적으로 4~6개월이나, 기구 사정에 따라 변동 가능       - OAS(미주기구)의 경우 선발 후 25년 상반기 파견   ㅇ 기구별 선호 상세 지원자격은 본 공고 4페이지 “참고1” 참조    다. 지원 내역 : 왕복 항공료(정액), 현지 정착비 및 월 체재비')]"
      ]
     },
     "execution_count": 33,
     "metadata": {},
     "output_type": "execute_result"
    }
   ],
   "source": [
    "retriever.get_relevant_documents(\"국제이주기구 파견은 언제 하나요?\")"
   ]
  },
  {
   "cell_type": "code",
   "execution_count": 34,
   "metadata": {},
   "outputs": [
    {
     "data": {
      "text/plain": [
       "[Document(metadata={'page_type': 'table', 'source': '(첨부5) 2024년도 하반기 중남미 지역기구 파견인턴 선발 공고.hwpx'}, page_content='<table\\n                    border=\"1\"\\n                    width=\"50%\"\\n                    height=\"200\"\\n                    cellspacing=\"5\">\\n\\t <tr>\\n\\t \\t <td>기구명</td>\\n\\t \\t <td>파견지</td>\\n\\t \\t <td>파견 기간</td>\\n\\t \\t <td>인원</td>\\n\\t </tr>\\n\\t <tr>\\n\\t \\t <td>PARLATINO(라틴아메리카의회)</td>\\n\\t \\t <td>파나마</td>\\n\\t \\t <td>6개월</td>\\n\\t \\t <td>1</td>\\n\\t </tr>\\n\\t <tr>\\n\\t \\t <td>IOM(국제이주기구)</td>\\n\\t \\t <td>페루</td>\\n\\t \\t <td>6개월</td>\\n\\t \\t <td>1</td>\\n\\t </tr>\\n\\t <tr>\\n\\t \\t <td>OPANAL(중남미핵무기금지기구)</td>\\n\\t \\t <td>멕시코</td>\\n\\t \\t <td>2024.7월 ~ 11월</td>\\n\\t \\t <td>1</td>\\n\\t </tr>\\n\\t <tr>\\n\\t \\t <td>GGGI(글로벌녹색성장연구소)</td>\\n\\t \\t <td>파라과이</td>\\n\\t \\t <td>추후 조율</td>\\n\\t \\t <td>1</td>\\n\\t </tr>\\n\\t <tr>\\n\\t \\t <td>SEGIB(이베로아메리카사무국)</td>'),\n",
       " Document(metadata={'page_type': 'table', 'source': '(첨부5) 2024년도 하반기 중남미 지역기구 파견인턴 선발 공고.hwpx'}, page_content='<table\\n                    border=\"1\"\\n                    width=\"50%\"\\n                    height=\"200\"\\n                    cellspacing=\"5\">\\n\\t <tr>\\n\\t \\t <td>※ 상기 지역기구 외에도 기타 지역기구로부터 인턴 수요가 추가적으로 발생 가능※ 각 지역기구별 적격자가 없다고 판단되는 경우 선발하지 않을 수 있음※ 치안 등 지역기구 소재지 내 제반 사정에 따라 일정 조정 등 변동 가능 ※ 각 지역 기구에 관한 상세 내용은 ‘외교부 홈페이지(www.mofa.go.kr)>외교정책>국제기구‧지역협력체>중남미지역기구’ 참고</td>\\n\\t </tr>\\n</table>')]"
      ]
     },
     "execution_count": 34,
     "metadata": {},
     "output_type": "execute_result"
    }
   ],
   "source": [
    "retriever.get_relevant_documents(\"IOM\")"
   ]
  },
  {
   "cell_type": "markdown",
   "metadata": {},
   "source": [
    "## Table Data"
   ]
  },
  {
   "cell_type": "code",
   "execution_count": 35,
   "metadata": {},
   "outputs": [
    {
     "name": "stdout",
     "output_type": "stream",
     "text": [
      "<table\n",
      "                    border=\"1\"\n",
      "                    width=\"50%\"\n",
      "                    height=\"200\"\n",
      "                    cellspacing=\"5\">\n",
      "\t <tr>\n",
      "\t \t <td>기구명</td>\n",
      "\t \t <td>파견지</td>\n",
      "\t \t <td>파견 기간</td>\n",
      "\t \t <td>인원</td>\n",
      "\t </tr>\n",
      "\t <tr>\n",
      "\t \t <td>PARLATINO(라틴아메리카의회)</td>\n",
      "\t \t <td>파나마</td>\n",
      "\t \t <td>6개월</td>\n",
      "\t \t <td>1</td>\n",
      "\t </tr>\n",
      "\t <tr>\n",
      "\t \t <td>IOM(국제이주기구)</td>\n",
      "\t \t <td>페루</td>\n",
      "\t \t <td>6개월</td>\n",
      "\t \t <td>1</td>\n",
      "\t </tr>\n",
      "\t <tr>\n",
      "\t \t <td>OPANAL(중남미핵무기금지기구)</td>\n",
      "\t \t <td>멕시코</td>\n",
      "\t \t <td>2024.7월 ~ 11월</td>\n",
      "\t \t <td>1</td>\n",
      "\t </tr>\n",
      "\t <tr>\n",
      "\t \t <td>GGGI(글로벌녹색성장연구소)</td>\n",
      "\t \t <td>파라과이</td>\n",
      "\t \t <td>추후 조율</td>\n",
      "\t \t <td>1</td>\n",
      "\t </tr>\n",
      "\t <tr>\n",
      "\t \t <td>SEGIB(이베로아메리카사무국)</td>\n"
     ]
    }
   ],
   "source": [
    "for d in split_docs:\n",
    "    if \"IOM\" in d.page_content:\n",
    "        print(d.page_content)\n",
    "        sample_text = d.page_content\n",
    "        break"
   ]
  },
  {
   "cell_type": "markdown",
   "metadata": {},
   "source": [
    "#### HTML 테이블 구조를 컨텍스트로 전달"
   ]
  },
  {
   "cell_type": "code",
   "execution_count": 36,
   "metadata": {},
   "outputs": [
    {
     "data": {
      "text/plain": [
       "'<table\\n                    border=\"1\"\\n                    width=\"50%\"\\n                    height=\"200\"\\n                    cellspacing=\"5\">\\n\\t <tr>\\n\\t \\t <td>기구명</td>\\n\\t \\t <td>파견지</td>\\n\\t \\t <td>파견 기간</td>\\n\\t \\t <td>인원</td>\\n\\t </tr>\\n\\t <tr>\\n\\t \\t <td>PARLATINO(라틴아메리카의회)</td>\\n\\t \\t <td>파나마</td>\\n\\t \\t <td>6개월</td>\\n\\t \\t <td>1</td>\\n\\t </tr>\\n\\t <tr>\\n\\t \\t <td>IOM(국제이주기구)</td>\\n\\t \\t <td>페루</td>\\n\\t \\t <td>6개월</td>\\n\\t \\t <td>1</td>\\n\\t </tr>\\n\\t <tr>\\n\\t \\t <td>OPANAL(중남미핵무기금지기구)</td>\\n\\t \\t <td>멕시코</td>\\n\\t \\t <td>2024.7월 ~ 11월</td>\\n\\t \\t <td>1</td>\\n\\t </tr>\\n\\t <tr>\\n\\t \\t <td>GGGI(글로벌녹색성장연구소)</td>\\n\\t \\t <td>파라과이</td>\\n\\t \\t <td>추후 조율</td>\\n\\t \\t <td>1</td>\\n\\t </tr>\\n\\t <tr>\\n\\t \\t <td>SEGIB(이베로아메리카사무국)</td>'"
      ]
     },
     "execution_count": 36,
     "metadata": {},
     "output_type": "execute_result"
    }
   ],
   "source": [
    "sample_text"
   ]
  },
  {
   "cell_type": "code",
   "execution_count": 37,
   "metadata": {},
   "outputs": [
    {
     "data": {
      "text/plain": [
       "351"
      ]
     },
     "execution_count": 37,
     "metadata": {},
     "output_type": "execute_result"
    }
   ],
   "source": [
    "len(tokenizer.encode(sample_text))"
   ]
  },
  {
   "cell_type": "code",
   "execution_count": 38,
   "metadata": {},
   "outputs": [
    {
     "data": {
      "text/plain": [
       "AIMessage(content='6개월 동안 페루에 파견되었습니다.  \\n', response_metadata={'model': 'gemma2', 'created_at': '2024-07-05T05:09:19.9364879Z', 'message': {'role': 'assistant', 'content': ''}, 'done_reason': 'stop', 'done': True, 'total_duration': 3999386600, 'load_duration': 2147500, 'prompt_eval_count': 428, 'prompt_eval_duration': 1323412000, 'eval_count': 14, 'eval_duration': 2670698000}, id='run-93500639-81b4-415a-9e57-ec0d0832f8eb-0')"
      ]
     },
     "execution_count": 38,
     "metadata": {},
     "output_type": "execute_result"
    }
   ],
   "source": [
    "llm.invoke(f\"\"\"Answer the question based only on the following context:\n",
    "{sample_text}\n",
    "\n",
    "Question: 국제이주기구 파견은 언제 하나요?\n",
    "\"\"\")"
   ]
  },
  {
   "cell_type": "markdown",
   "metadata": {},
   "source": [
    "#### Markdown 형식으로 테이블 데이터를 변환하여 컨텍스트로 전달"
   ]
  },
  {
   "cell_type": "code",
   "execution_count": 39,
   "metadata": {},
   "outputs": [
    {
     "name": "stdout",
     "output_type": "stream",
     "text": [
      "| 0                            | 1        | 2               | 3    |\n",
      "|:-----------------------------|:---------|:----------------|:-----|\n",
      "| 기구명                       | 파견지   | 파견 기간       | 인원 |\n",
      "| PARLATINO(라틴아메리카의회)  | 파나마   | 6개월           | 1    |\n",
      "| IOM(국제이주기구)            | 페루     | 6개월           | 1    |\n",
      "| OPANAL(중남미핵무기금지기구) | 멕시코   | 2024.7월 ~ 11월 | 1    |\n",
      "| GGGI(글로벌녹색성장연구소)   | 파라과이 | 추후 조율       | 1    |\n",
      "| SEGIB(이베로아메리카사무국)  | nan      | nan             | nan  |\n"
     ]
    },
    {
     "name": "stderr",
     "output_type": "stream",
     "text": [
      "C:\\Users\\user\\AppData\\Local\\Temp\\ipykernel_13540\\272752229.py:11: FutureWarning: Passing literal html to 'read_html' is deprecated and will be removed in a future version. To read from a literal string, wrap it in a 'StringIO' object.\n",
      "  df = pd.read_html(str(table))[0]\n"
     ]
    }
   ],
   "source": [
    "import pandas as pd\n",
    "from bs4 import BeautifulSoup\n",
    "\n",
    "# BeautifulSoup을 사용하여 HTML 파싱\n",
    "soup = BeautifulSoup(sample_text, 'html.parser')\n",
    "\n",
    "# 테이블 찾기\n",
    "table = soup.find('table')\n",
    "\n",
    "# Pandas DataFrame으로 변환\n",
    "df = pd.read_html(str(table))[0]\n",
    "\n",
    "# DataFrame을 Markdown으로 변환\n",
    "markdown_table = df.to_markdown(index=False)\n",
    "\n",
    "print(markdown_table)"
   ]
  },
  {
   "cell_type": "code",
   "execution_count": 40,
   "metadata": {},
   "outputs": [
    {
     "data": {
      "text/plain": [
       "AIMessage(content='국제이주기구 파견은 6개월입니다. \\n', response_metadata={'model': 'gemma2', 'created_at': '2024-07-05T05:09:45.3305411Z', 'message': {'role': 'assistant', 'content': ''}, 'done_reason': 'stop', 'done': True, 'total_duration': 4412672100, 'load_duration': 2032500, 'prompt_eval_count': 233, 'prompt_eval_duration': 1001586000, 'eval_count': 18, 'eval_duration': 3407409000}, id='run-bc56132c-da44-4773-800c-e045c22712f8-0')"
      ]
     },
     "execution_count": 40,
     "metadata": {},
     "output_type": "execute_result"
    }
   ],
   "source": [
    "llm.invoke(f\"\"\"Answer the question based only on the following context:\n",
    "{markdown_table}\n",
    "\n",
    "Question: 국제이주기구 파견은 언제 하나요?\n",
    "\"\"\")"
   ]
  },
  {
   "cell_type": "code",
   "execution_count": 41,
   "metadata": {},
   "outputs": [
    {
     "data": {
      "text/plain": [
       "203"
      ]
     },
     "execution_count": 41,
     "metadata": {},
     "output_type": "execute_result"
    }
   ],
   "source": [
    "len(tokenizer.encode(markdown_table))"
   ]
  },
  {
   "cell_type": "markdown",
   "metadata": {},
   "source": [
    "## Text 와 Table 구분하여 청크로 분할"
   ]
  },
  {
   "cell_type": "code",
   "execution_count": 42,
   "metadata": {},
   "outputs": [],
   "source": [
    "import pandas as pd\n",
    "from bs4 import BeautifulSoup\n",
    "\n",
    "def convert_html_table_to_markdown(html_table_text: str) -> str:\n",
    "\n",
    "    # BeautifulSoup을 사용하여 HTML 파싱\n",
    "    soup = BeautifulSoup(html_table_text, 'html.parser')\n",
    "\n",
    "    # 테이블 찾기\n",
    "    table = soup.find('table')\n",
    "\n",
    "    # Pandas DataFrame으로 변환\n",
    "    df = pd.read_html(str(table))[0]\n",
    "\n",
    "    # DataFrame을 Markdown으로 변환\n",
    "    markdown_table = df.to_markdown(index=False)\n",
    "\n",
    "    return markdown_table"
   ]
  },
  {
   "cell_type": "code",
   "execution_count": 43,
   "metadata": {},
   "outputs": [
    {
     "data": {
      "text/plain": [
       "{'source': '(첨부5) 2024년도 하반기 중남미 지역기구 파견인턴 선발 공고.hwpx', 'page_type': 'text'}"
      ]
     },
     "execution_count": 43,
     "metadata": {},
     "output_type": "execute_result"
    }
   ],
   "source": [
    "documents[0].metadata"
   ]
  },
  {
   "cell_type": "code",
   "execution_count": 44,
   "metadata": {},
   "outputs": [
    {
     "name": "stderr",
     "output_type": "stream",
     "text": [
      "C:\\Users\\user\\AppData\\Local\\Temp\\ipykernel_13540\\2485168362.py:13: FutureWarning: Passing literal html to 'read_html' is deprecated and will be removed in a future version. To read from a literal string, wrap it in a 'StringIO' object.\n",
      "  df = pd.read_html(str(table))[0]\n",
      "C:\\Users\\user\\AppData\\Local\\Temp\\ipykernel_13540\\2485168362.py:13: FutureWarning: Passing literal html to 'read_html' is deprecated and will be removed in a future version. To read from a literal string, wrap it in a 'StringIO' object.\n",
      "  df = pd.read_html(str(table))[0]\n",
      "C:\\Users\\user\\AppData\\Local\\Temp\\ipykernel_13540\\2485168362.py:13: FutureWarning: Passing literal html to 'read_html' is deprecated and will be removed in a future version. To read from a literal string, wrap it in a 'StringIO' object.\n",
      "  df = pd.read_html(str(table))[0]\n",
      "C:\\Users\\user\\AppData\\Local\\Temp\\ipykernel_13540\\2485168362.py:13: FutureWarning: Passing literal html to 'read_html' is deprecated and will be removed in a future version. To read from a literal string, wrap it in a 'StringIO' object.\n",
      "  df = pd.read_html(str(table))[0]\n",
      "C:\\Users\\user\\AppData\\Local\\Temp\\ipykernel_13540\\2485168362.py:13: FutureWarning: Passing literal html to 'read_html' is deprecated and will be removed in a future version. To read from a literal string, wrap it in a 'StringIO' object.\n",
      "  df = pd.read_html(str(table))[0]\n",
      "C:\\Users\\user\\AppData\\Local\\Temp\\ipykernel_13540\\2485168362.py:13: FutureWarning: Passing literal html to 'read_html' is deprecated and will be removed in a future version. To read from a literal string, wrap it in a 'StringIO' object.\n",
      "  df = pd.read_html(str(table))[0]\n",
      "C:\\Users\\user\\AppData\\Local\\Temp\\ipykernel_13540\\2485168362.py:13: FutureWarning: Passing literal html to 'read_html' is deprecated and will be removed in a future version. To read from a literal string, wrap it in a 'StringIO' object.\n",
      "  df = pd.read_html(str(table))[0]\n",
      "C:\\Users\\user\\AppData\\Local\\Temp\\ipykernel_13540\\2485168362.py:13: FutureWarning: Passing literal html to 'read_html' is deprecated and will be removed in a future version. To read from a literal string, wrap it in a 'StringIO' object.\n",
      "  df = pd.read_html(str(table))[0]\n",
      "C:\\Users\\user\\AppData\\Local\\Temp\\ipykernel_13540\\2485168362.py:13: FutureWarning: Passing literal html to 'read_html' is deprecated and will be removed in a future version. To read from a literal string, wrap it in a 'StringIO' object.\n",
      "  df = pd.read_html(str(table))[0]\n"
     ]
    },
    {
     "data": {
      "text/plain": [
       "10"
      ]
     },
     "execution_count": 44,
     "metadata": {},
     "output_type": "execute_result"
    }
   ],
   "source": [
    "markdown_documents = []\n",
    "\n",
    "for doc in documents:\n",
    "    if doc.metadata.get(\"page_type\")=='table':\n",
    "\n",
    "        try:\n",
    "            doc.page_content = convert_html_table_to_markdown(doc.page_content)\n",
    "            markdown_documents.append(doc)\n",
    "        except:\n",
    "            markdown_documents.append(doc)\n",
    "    else:\n",
    "        markdown_documents.append(doc)\n",
    "\n",
    "\n",
    "len(markdown_documents)\n",
    "            "
   ]
  },
  {
   "cell_type": "code",
   "execution_count": 45,
   "metadata": {},
   "outputs": [
    {
     "name": "stderr",
     "output_type": "stream",
     "text": [
      "Token indices sequence length is longer than the specified maximum sequence length for this model (694 > 512). Running this sequence through the model will result in indexing errors\n"
     ]
    },
    {
     "name": "stdout",
     "output_type": "stream",
     "text": [
      "26\n",
      "page_content='2024년도 하반기 중남미 지역기구 파견 인턴 선발 공고1. 선발 개요  가. 공통 자격요건   ㅇ 대한민국 국적자로, 국내외 대학생(3-4학년) 또는 대학원생   ㅇ 영어 또는 스페인어로 업무처리가 가능한 자   나. 기구별 선발 기간 및 인원   ㅇ 파견기간은 원칙적으로 4~6개월이나, 기구 사정에 따라 변동 가능       - OAS(미주기구)의 경우 선발 후 25년 상반기 파견   ㅇ 기구별 선호 상세 지원자격은 본 공고 4페이지 “참고1” 참조    다. 지원 내역 : 왕복 항공료(정액), 현지 정착비 및 월 체재비' metadata={'source': '(첨부5) 2024년도 하반기 중남미 지역기구 파견인턴 선발 공고.hwpx', 'page_type': 'text'}\n"
     ]
    }
   ],
   "source": [
    "new_split_docs = text_splitter.split_documents(markdown_documents)\n",
    "print(len(new_split_docs))\n",
    "print(new_split_docs[0])"
   ]
  },
  {
   "cell_type": "code",
   "execution_count": 46,
   "metadata": {},
   "outputs": [
    {
     "data": {
      "text/plain": [
       "'The provided text does not contain information about the International Organization for Migration (IOM).  \\n'"
      ]
     },
     "execution_count": 46,
     "metadata": {},
     "output_type": "execute_result"
    }
   ],
   "source": [
    "vectorstore2 = Chroma.from_documents(documents=new_split_docs, \n",
    "                                    embedding=embeddings_model)\n",
    "\n",
    "\n",
    "retriever2 = vectorstore2.as_retriever(search_kwargs={'k': 2})\n",
    "\n",
    "rag_chain2 = ( \n",
    "    {\"context\": retriever2 | format_docs, \"question\": RunnablePassthrough()}\n",
    "    | prompt\n",
    "    | llm\n",
    "    | StrOutputParser()\n",
    ")\n",
    "\n",
    "response = rag_chain2.invoke(\"국제이주기구 파견은 언제 하나요?\")\n",
    "response"
   ]
  },
  {
   "cell_type": "code",
   "execution_count": 47,
   "metadata": {},
   "outputs": [
    {
     "data": {
      "text/plain": [
       "[Document(metadata={'page_type': 'table', 'source': '(첨부5) 2024년도 하반기 중남미 지역기구 파견인턴 선발 공고.hwpx'}, page_content='<table\\n                    border=\"1\"\\n                    width=\"50%\"\\n                    height=\"200\"\\n                    cellspacing=\"5\">\\n\\t <tr>\\n\\t \\t <td>※ 상기 지역기구 외에도 기타 지역기구로부터 인턴 수요가 추가적으로 발생 가능※ 각 지역기구별 적격자가 없다고 판단되는 경우 선발하지 않을 수 있음※ 치안 등 지역기구 소재지 내 제반 사정에 따라 일정 조정 등 변동 가능 ※ 각 지역 기구에 관한 상세 내용은 ‘외교부 홈페이지(www.mofa.go.kr)>외교정책>국제기구‧지역협력체>중남미지역기구’ 참고</td>\\n\\t </tr>\\n</table>'),\n",
       " Document(metadata={'page_type': 'text', 'source': '(첨부5) 2024년도 하반기 중남미 지역기구 파견인턴 선발 공고.hwpx'}, page_content='2024년도 하반기 중남미 지역기구 파견 인턴 선발 공고1. 선발 개요  가. 공통 자격요건   ㅇ 대한민국 국적자로, 국내외 대학생(3-4학년) 또는 대학원생   ㅇ 영어 또는 스페인어로 업무처리가 가능한 자   나. 기구별 선발 기간 및 인원   ㅇ 파견기간은 원칙적으로 4~6개월이나, 기구 사정에 따라 변동 가능       - OAS(미주기구)의 경우 선발 후 25년 상반기 파견   ㅇ 기구별 선호 상세 지원자격은 본 공고 4페이지 “참고1” 참조    다. 지원 내역 : 왕복 항공료(정액), 현지 정착비 및 월 체재비')]"
      ]
     },
     "execution_count": 47,
     "metadata": {},
     "output_type": "execute_result"
    }
   ],
   "source": [
    "retriever2.get_relevant_documents(\"국제이주기구 파견은 언제 하나요?\")"
   ]
  },
  {
   "cell_type": "code",
   "execution_count": null,
   "metadata": {},
   "outputs": [],
   "source": []
  }
 ],
 "metadata": {
  "kernelspec": {
   "display_name": "app",
   "language": "python",
   "name": "python3"
  },
  "language_info": {
   "codemirror_mode": {
    "name": "ipython",
    "version": 3
   },
   "file_extension": ".py",
   "mimetype": "text/x-python",
   "name": "python",
   "nbconvert_exporter": "python",
   "pygments_lexer": "ipython3",
   "version": "3.11.9"
  }
 },
 "nbformat": 4,
 "nbformat_minor": 2
}
